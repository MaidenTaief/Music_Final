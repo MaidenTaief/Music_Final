{
  "nbformat": 4,
  "nbformat_minor": 0,
  "metadata": {
    "colab": {
      "provenance": [],
      "machine_shape": "hm",
      "mount_file_id": "1NEIf6edCT4BPa7hCZsET1Z1sCO9BQKZR",
      "authorship_tag": "ABX9TyP7BRB260ZGweVP6LcNJd77",
      "include_colab_link": true
    },
    "kernelspec": {
      "name": "python3",
      "display_name": "Python 3"
    },
    "language_info": {
      "name": "python"
    }
  },
  "cells": [
    {
      "cell_type": "markdown",
      "metadata": {
        "id": "view-in-github",
        "colab_type": "text"
      },
      "source": [
        "<a href=\"https://colab.research.google.com/github/MaidenTaief/Music_Final/blob/main/Copy_of_Song_RecSys_Content_Collaborative.ipynb\" target=\"_parent\"><img src=\"https://colab.research.google.com/assets/colab-badge.svg\" alt=\"Open In Colab\"/></a>"
      ]
    },
    {
      "cell_type": "markdown",
      "source": [
        "#Collaborative Filtering\n",
        "\n",
        "###Loading and Preparing Data\n",
        "First, we set the path to our dataset and load our aggregated data, which includes user IDs and playlist names. This is crucial because we need to know which users interacted with which playlists. We then convert user IDs and playlist names into categorical data types. This conversion helps in indexing and speeds up operations since categorical data uses integers internally, which are faster to process than strings.\n",
        "\n",
        "To establish a direct mapping between user IDs and their indices in our matrices, as well as between playlist names and their indices, we create two dictionaries: `user_id_to_index` and `playlist_index_to_name`. These mappings are essential for efficiently looking up and referring to specific users and playlists in the subsequent steps.\n",
        "\n",
        "###Interaction Matrix and Similarity Calculation\n",
        "We load a pre-saved sparse matrix, `playlist_interaction_matrix`, that represents interactions between users and playlists. Using this matrix, we compute the cosine similarity among users. Cosine similarity helps us understand how similar two users are based on their interactions with various playlists. This similarity metric is a cornerstone of collaborative filtering, allowing us to predict a user's preferences based on the preferences of other similar users.\n",
        "\n",
        "###Recommendation Function\n",
        "\n",
        "The `recommend_playlists` function is designed to recommend playlist names to a user based on the preferences of similar users. Here's a breakdown of how this function works:\n",
        "\n",
        "- **User Index Conversion:** Convert the provided user ID to its corresponding index using the `user_id_to_index` mapping.\n",
        "- **Similarity Score Retrieval:** Fetch the cosine similarity scores for the given user against all other users.\n",
        "- **Score Aggregation:** Iterate through each user, weighted by their similarity to the target user, to compile a score for each playlist based on how those similar users interacted with the playlists.\n",
        "- **Result Compilation:** Zero out scores for playlists the user has already interacted with to ensure we only recommend new content. Then, sort the scores in descending order and pick the top N playlists.\n",
        "\n",
        "By focusing on playlists favored by users with similar tastes and excluding already familiar content, we can make personalized recommendations that are likely to be of interest.\n",
        "\n",
        "###Example Usage\n",
        "\n",
        "To demonstrate the functionality of this system, we use an example user ID and call the `recommend_playlists` function. This example illustrates how you can input any user ID from the dataset and retrieve personalized playlist recommendations.\n",
        "\n",
        "The output shows the top five recommended playlists for the user, providing a practical example of the recommendation system in action. These recommendations are tailored to the user's inferred preferences, showcasing the effectiveness of collaborative filtering."
      ],
      "metadata": {
        "id": "tVXpvi5lr6vh"
      }
    },
    {
      "cell_type": "code",
      "source": [
        "import pandas as pd\n",
        "\n",
        "# Set the path to the dataset folder\n",
        "dataset_path = '/content/drive/My Drive/DATASET'\n",
        "\n",
        "# Load the aggregated data\n",
        "agg_data = pd.read_csv(f'{dataset_path}/aggregated_data.csv')\n",
        "\n",
        "# Get unique user IDs\n",
        "unique_user_ids = agg_data['user_id'].unique()\n",
        "\n",
        "# Print a few example user IDs\n",
        "print(\"Example User IDs:\", unique_user_ids[:5])  # Adjust the slice as needed to get more or fewer examples\n"
      ],
      "metadata": {
        "colab": {
          "base_uri": "https://localhost:8080/"
        },
        "id": "TiUj2khm-e9P",
        "outputId": "0bba45c0-6195-4132-a45d-2a06b840ee53"
      },
      "execution_count": null,
      "outputs": [
        {
          "output_type": "stream",
          "name": "stdout",
          "text": [
            "Example User IDs: ['00055176fea33f6e027cd3302289378b' '0007f3dd09c91198371454c608d47f22'\n",
            " '000b0f32b5739f052b9d40fcc5c41079' '000c11a16c89aa4b14b328080f5954ee'\n",
            " '00123e0f544dee3ab006aa7f1e5725a7']\n"
          ]
        }
      ]
    },
    {
      "cell_type": "code",
      "source": [
        "from sklearn.metrics.pairwise import cosine_similarity\n",
        "import numpy as np\n",
        "from scipy.sparse import load_npz\n",
        "\n",
        "def save_user_similarity_matrix(interaction_matrix, path):\n",
        "    # Calculate cosine similarity matrix\n",
        "    user_similarity_matrix = cosine_similarity(interaction_matrix, dense_output=True)\n",
        "    np.save(path, user_similarity_matrix)  # Save the dense matrix\n",
        "    print(\"User similarity matrix saved to:\", path)\n",
        "\n",
        "def load_user_similarity_matrix(path):\n",
        "    try:\n",
        "        # Load the matrix without allowing pickle to ensure it's not considered an object array\n",
        "        user_similarity_matrix = np.load(path, allow_pickle=False)\n",
        "        print(\"User similarity matrix loaded successfully.\")\n",
        "        print(\"Shape:\", user_similarity_matrix.shape)\n",
        "        print(\"Data type:\", user_similarity_matrix.dtype)\n",
        "        return user_similarity_matrix\n",
        "    except Exception as e:\n",
        "        print(\"Failed to load user similarity matrix:\", str(e))\n",
        "        return None\n",
        "\n",
        "# Set the dataset directory path\n",
        "dataset_path = '/content/drive/My Drive/DATASET'\n",
        "\n",
        "# Load the interaction matrix\n",
        "interaction_matrix_path = f'{dataset_path}/playlist_interaction_sparse_matrix.npz'\n",
        "interaction_matrix = load_npz(interaction_matrix_path)\n",
        "\n",
        "# Save the user similarity matrix\n",
        "similarity_matrix_path = f'{dataset_path}/user_similarity_playlist.npy'\n",
        "save_user_similarity_matrix(interaction_matrix, similarity_matrix_path)\n",
        "\n",
        "# Load the user similarity matrix to confirm it's saved correctly\n",
        "user_similarity_matrix = load_user_similarity_matrix(similarity_matrix_path)\n"
      ],
      "metadata": {
        "id": "8joLGsbp4K8T",
        "outputId": "ed67436d-e748-42d3-eeb0-86cffc972ef4",
        "colab": {
          "base_uri": "https://localhost:8080/"
        }
      },
      "execution_count": null,
      "outputs": [
        {
          "output_type": "stream",
          "name": "stdout",
          "text": [
            "User similarity matrix saved to: /content/drive/My Drive/DATASET/user_similarity_playlist.npy\n",
            "User similarity matrix loaded successfully.\n",
            "Shape: (15201, 15201)\n",
            "Data type: float64\n"
          ]
        }
      ]
    },
    {
      "cell_type": "code",
      "source": [
        "from scipy.sparse import load_npz\n",
        "\n",
        "# Function to load and inspect the interaction matrix\n",
        "def inspect_interaction_matrix(path):\n",
        "    # Load the interaction matrix from the specified path\n",
        "    interaction_matrix = load_npz(path)\n",
        "\n",
        "    # Display properties of the interaction matrix\n",
        "    print(\"Interaction matrix loaded from:\", path)\n",
        "    print(\"Shape:\", interaction_matrix.shape)\n",
        "    print(\"Data type:\", interaction_matrix.dtype)\n",
        "    print(\"Number of non-zero entries:\", interaction_matrix.nnz)\n",
        "    print(\"Density of the matrix: {:.6f}\".format(interaction_matrix.nnz / (interaction_matrix.shape[0] * interaction_matrix.shape[1])))\n",
        "\n",
        "    return interaction_matrix\n",
        "\n",
        "# Set the dataset directory path\n",
        "dataset_path = '/content/drive/My Drive/DATASET'\n",
        "interaction_matrix_path = f'{dataset_path}/playlist_interaction_sparse_matrix.npz'\n",
        "\n",
        "# Load and inspect the interaction matrix\n",
        "interaction_matrix = inspect_interaction_matrix(interaction_matrix_path)"
      ],
      "metadata": {
        "id": "hAHJ16LH7-a5",
        "outputId": "65afb4ec-bfb0-481a-e39c-361025571cc9",
        "colab": {
          "base_uri": "https://localhost:8080/"
        }
      },
      "execution_count": null,
      "outputs": [
        {
          "output_type": "stream",
          "name": "stdout",
          "text": [
            "Interaction matrix loaded from: /content/drive/My Drive/DATASET/playlist_interaction_sparse_matrix.npz\n",
            "Shape: (15201, 99153)\n",
            "Data type: int64\n",
            "Number of non-zero entries: 154834\n",
            "Density of the matrix: 0.000103\n"
          ]
        }
      ]
    },
    {
      "cell_type": "code",
      "source": [
        "import numpy as np\n",
        "import pickle\n",
        "from scipy.sparse import load_npz\n",
        "\n",
        "def recommend_playlists(user_id, user_similarity_matrix, interaction_matrix, user_id_to_index, playlist_index_to_name, top_n=10):\n",
        "    if user_id not in user_id_to_index:\n",
        "        return \"User ID not found.\"\n",
        "\n",
        "    user_index = user_id_to_index[user_id]\n",
        "    if user_index >= user_similarity_matrix.shape[0]:\n",
        "        return \"User index is out of bounds for the similarity matrix.\"\n",
        "\n",
        "    similarity_scores = user_similarity_matrix[user_index]\n",
        "    similar_indices = np.argsort(-similarity_scores)[:top_n+1]\n",
        "    similar_indices = similar_indices[similar_indices != user_index]\n",
        "\n",
        "    playlist_scores = np.zeros(interaction_matrix.shape[1])\n",
        "    for idx in similar_indices:\n",
        "        playlist_scores += interaction_matrix[idx].toarray().flatten() * similarity_scores[idx]\n",
        "\n",
        "    user_playlists = interaction_matrix[user_index].nonzero()[1]\n",
        "    playlist_scores[user_playlists] = 0\n",
        "    top_playlist_indices = np.argsort(-playlist_scores)[:top_n]\n",
        "    recommended_playlists = [playlist_index_to_name[idx] for idx in top_playlist_indices]\n",
        "\n",
        "    return recommended_playlists\n",
        "\n",
        "# Load necessary data\n",
        "dataset_path = '/content/drive/My Drive/DATASET'\n",
        "with open(f'{dataset_path}/user_id_to_index.pkl', 'rb') as f:\n",
        "    user_id_to_index = pickle.load(f)\n",
        "with open(f'{dataset_path}/index_to_playlist_name.pkl', 'rb') as f:\n",
        "    playlist_index_to_name = pickle.load(f)\n",
        "user_similarity_matrix = np.load(f'{dataset_path}/user_similarity_playlist.npy')\n",
        "playlist_interaction_matrix = load_npz(f'{dataset_path}/playlist_interaction_sparse_matrix.npz')\n",
        "\n",
        "# Test the function\n",
        "example_user_id = '00055176fea33f6e027cd3302289378b'\n",
        "recommended_playlists = recommend_playlists(example_user_id, user_similarity_matrix, playlist_interaction_matrix, user_id_to_index, playlist_index_to_name)\n",
        "print(\"Recommended Playlists:\", recommended_playlists)"
      ],
      "metadata": {
        "id": "QuNmmjls4rNc",
        "outputId": "741f9e7a-947e-417e-d142-f388f979b990",
        "colab": {
          "base_uri": "https://localhost:8080/"
        }
      },
      "execution_count": null,
      "outputs": [
        {
          "output_type": "stream",
          "name": "stdout",
          "text": [
            "Recommended Playlists: ['J. Period & Black Thought - The Best of The Roots', '00-nek-en_el_cuarto_26-sp-2007', 'ONLY DURAN DURAN', \"Elvis 75 - Good Rockin' Tonight\", 'Great Dane – Alpha Dog', '60´s 4 eva', '#facebookdown', 'Led Zeppelin – How The West Was Won', 'Easy Listening Blues', 'Kensington – Vultures - Festival Edition']\n"
          ]
        }
      ]
    },
    {
      "cell_type": "markdown",
      "source": [
        "##Hybrid Filtering\n",
        "\n",
        "###Setting Up the Environment\n",
        "First off, we specify the location of our dataset and load it into our environment. This dataset includes both user IDs and playlist names, along with additional cluster information that we'll use later for content-based filtering. By converting user IDs and playlist names to categorical data types, we optimize the indexing process which is essential for handling large datasets efficiently.\n",
        "\n",
        "We also establish mappings for both user IDs and playlist names to numerical indices. These mappings are critical because they allow us to efficiently access and manipulate our data structures, especially when working with matrices.\n",
        "\n",
        "###Interaction Matrix and Similarity Computation\n",
        "\n",
        "Next, we load a pre-computed sparse matrix, `playlist_interaction_matrix`, that captures the interactions between users and playlists. This matrix is fundamental to calculating the cosine similarity among users, which we perform next. Cosine similarity measures how similar the interaction patterns of different users are, and it's a key component of collaborative filtering. This similarity helps us identify users with similar tastes and preferences.\n",
        "\n",
        "###Hybrid Recommendation Function\n",
        "\n",
        "The function `hybrid_recommend_playlists` is designed to leverage both collaborative and content-based filtering for recommending playlists:\n",
        "\n",
        "- **Collaborative Filtering**: We use the computed user similarity scores to identify users with similar playlist interaction patterns to the target user. By aggregating the interaction data from these similar users, we can predict which playlists might interest the target user.\n",
        "\n",
        "- **Content-Based Filtering**: We enhance our recommendations by considering the 'cluster' attribute of playlists. Playlists within the same cluster likely share certain characteristics or themes. By boosting the scores of playlists within the same cluster as those the user has shown interest in, we refine our recommendations to be more tailored and relevant.\n",
        "\n",
        "Each playlist's score is adjusted based on its cluster's relation to the user's preferences, ensuring that recommended playlists are not just popular among similar users but also contextually relevant.\n",
        "\n"
      ],
      "metadata": {
        "id": "6Wn7IEGLtBqN"
      }
    },
    {
      "cell_type": "markdown",
      "source": [
        "###Setup and Data Preparation\n",
        "We start by setting the location of our dataset and loading the song data that includes important cluster information. This data is crucial as it contains the interactions between users and songs, which are fundamental to understanding user preferences.\n",
        "\n",
        "To efficiently handle and reference the song data, we convert song names into categorical data types. This not only optimizes our operations but also allows us to effectively index songs, which is essential for the recommendation process.\n",
        "\n",
        "By creating mappings from song names to indices, we ensure quick and direct access to song data throughout our recommendation computations, enhancing the system’s efficiency.\n",
        "\n",
        "###Dimensionality Reduction with Truncated SVD\n",
        "To manage the potentially large and sparse song interaction matrix, we apply Truncated SVD (Singular Value Decomposition). This method reduces the dimensionality of our dataset while preserving its significant characteristics. Here, we choose 200 components, a number that balances complexity and performance, making our dataset more manageable and speeding up subsequent calculations.\n",
        "\n",
        "Reducing dimensions helps in mitigating issues like overfitting and computational overload, especially when dealing with large datasets. It also aids in extracting the latent factors that represent underlying patterns in song interactions.\n",
        "\n",
        "###Our recommendation function, `Hybrid_recommend_songs`, combines collaborative filtering and content-based filtering techniques:\n",
        "\n",
        "- **Collaborative Filtering**: We calculate the cosine similarity between the target song vector (from our reduced matrix) and all other song vectors. This metric helps us find songs that share similar interaction patterns, suggesting that users who liked one may like the others.\n",
        "\n",
        "- **Content-Based Filtering**: We enhance our recommendations using the cluster information from the songs. Songs within the same cluster typically share thematic or stylistic similarities. We give a higher weight to songs from the same cluster as the target song, refining our recommendations to be contextually relevant.\n",
        "\n",
        "The function fetches additional candidates to ensure robust filtering and then ranks these songs based on their computed similarity scores, adjusted for content relevance.\n",
        "\n"
      ],
      "metadata": {
        "id": "T3eQMIbFuOpg"
      }
    },
    {
      "cell_type": "code",
      "source": [
        "import pandas as pd\n",
        "\n",
        "# Set the path to the dataset folder\n",
        "dataset_path = '/content/drive/My Drive/DATASET'\n",
        "\n",
        "# Load the aggregated data\n",
        "agg_data = pd.read_csv(f'{dataset_path}/aggregated_data.csv')\n",
        "\n",
        "# Get unique user IDs\n",
        "unique_song_name = agg_data['name'].unique()\n",
        "\n",
        "# Print a few example user IDs\n",
        "print(\"Example song names:\", unique_song_name[:5])  # Adjust the slice as needed to get more or fewer examples\n"
      ],
      "metadata": {
        "colab": {
          "base_uri": "https://localhost:8080/"
        },
        "id": "MTFohmNObZRO",
        "outputId": "d726579e-7284-400e-9784-a260460bafd5"
      },
      "execution_count": null,
      "outputs": [
        {
          "output_type": "stream",
          "name": "stdout",
          "text": [
            "Example song names: ['18' '21 Guns' 'A Little Too Much' 'Act My Age' 'After Midnight']\n"
          ]
        }
      ]
    },
    {
      "cell_type": "code",
      "source": [
        "from sklearn.decomposition import TruncatedSVD\n",
        "from sklearn.metrics import explained_variance_score\n",
        "import matplotlib.pyplot as plt\n",
        "\n",
        "svd = TruncatedSVD(n_components=200)\n",
        "reduced_matrix = svd.fit_transform(song_interaction_matrix)\n",
        "\n",
        "# Plotting explained variance\n",
        "plt.figure(figsize=(10, 6))\n",
        "plt.plot(np.cumsum(svd.explained_variance_ratio_))\n",
        "plt.xlabel('Number of Components')\n",
        "plt.ylabel('Cumulative Explained Variance')\n",
        "plt.title('Explained Variance by Different n_components')\n",
        "plt.grid(True)\n",
        "plt.show()"
      ],
      "metadata": {
        "id": "MV3i-QpJLjRV",
        "outputId": "f2e812e9-b149-4e3d-ef62-377d49d96b7b",
        "colab": {
          "base_uri": "https://localhost:8080/",
          "height": 564
        }
      },
      "execution_count": null,
      "outputs": [
        {
          "output_type": "display_data",
          "data": {
            "text/plain": [
              "<Figure size 1000x600 with 1 Axes>"
            ],
            "image/png": "[encoded data removed]"
          },
          "metadata": {}
        }
      ]
    },
    {
      "cell_type": "code",
      "source": [
        "import pandas as pd\n",
        "\n",
        "# Set the path to the dataset folder\n",
        "dataset_path = '/content/drive/My Drive/DATASET'\n",
        "\n",
        "# Load the aggregated song data\n",
        "song_data = pd.read_csv(f'{dataset_path}/aggregated_data_full.csv')\n",
        "\n",
        "# Filter songs by the artist \"The Weeknd\", handling potential case variations\n",
        "weeknd_songs = song_data[song_data['artistname'].str.lower() == '2Pac']\n",
        "\n",
        "# Display the song names\n",
        "print(\"Songs by The Weeknd:\")\n",
        "print(weeknd_songs['trackname'].unique())\n"
      ],
      "metadata": {
        "id": "1V5JXqkqR67G",
        "outputId": "cae7c8bc-6ec6-4ba0-847c-532af61510a3",
        "colab": {
          "base_uri": "https://localhost:8080/"
        }
      },
      "execution_count": null,
      "outputs": [
        {
          "output_type": "stream",
          "name": "stdout",
          "text": [
            "Songs by The Weeknd:\n",
            "[]\n"
          ]
        }
      ]
    },
    {
      "cell_type": "code",
      "source": [
        "import pandas as pd\n",
        "from scipy.sparse import csr_matrix, load_npz\n",
        "from sklearn.metrics.pairwise import cosine_similarity\n",
        "from sklearn.decomposition import TruncatedSVD\n",
        "import numpy as np\n",
        "\n",
        "# Set the path to the dataset folder\n",
        "dataset_path = '/content/drive/My Drive/DATASET'\n",
        "\n",
        "# Load the aggregated song data\n",
        "song_data = pd.read_csv(f'{dataset_path}/aggregated_data_full.csv')\n",
        "song_data['trackname'] = song_data['trackname'].str.lower().str.strip()\n",
        "song_data.drop_duplicates(subset=['trackname'], inplace=True)  # Ensure no duplicate songs\n",
        "\n",
        "# After modifying DataFrame, rebuild index to keep it consistent\n",
        "song_data.reset_index(drop=True, inplace=True)\n",
        "# Convert 'trackname' to categorical after making sure it's cleaned and unique\n",
        "song_data['trackname'] = pd.Categorical(song_data['trackname'])\n",
        "song_name_to_index = {name: index for index, name in enumerate(song_data['trackname'].cat.categories)}\n",
        "\n",
        "# Load the interaction matrix for songs\n",
        "song_interaction_matrix = load_npz(f'{dataset_path}/sparse_song_matrix.npz')\n",
        "\n",
        "# Applying Truncated SVD to reduce dimensions\n",
        "svd = TruncatedSVD(n_components=100)\n",
        "reduced_matrix = svd.fit_transform(song_interaction_matrix.transpose())\n",
        "\n",
        "def hybrid_recommend_songs(song_name, song_name_to_index, reduced_matrix, song_data, top_n=5):\n",
        "    song_name_processed = song_name.lower().strip()\n",
        "    if song_name_processed not in song_name_to_index:\n",
        "        return [\"Song not found.\"]\n",
        "    song_index = song_name_to_index[song_name_processed]\n",
        "    target_song_vector = reduced_matrix[song_index]\n",
        "    similarity_scores = cosine_similarity([target_song_vector], reduced_matrix)[0]\n",
        "\n",
        "    enhanced_scores = []\n",
        "    target_genres = set(song_data.at[song_index, 'genres'].split(','))\n",
        "    for idx, score in enumerate(similarity_scores):\n",
        "        if idx != song_index and idx < len(song_data):\n",
        "            song_meta = song_data.iloc[idx]\n",
        "            score_adjustment = score\n",
        "\n",
        "            # More weight to genre and cluster similarity\n",
        "            if song_data.at[song_index, 'cluster'] == song_meta['cluster']:\n",
        "                score_adjustment *= 1.5  # Strong emphasis on same cluster\n",
        "\n",
        "            # Check if any genre matches, and if so, give a significant boost\n",
        "            current_genres = set(song_meta['genres'].split(','))\n",
        "            if current_genres & target_genres:\n",
        "                score_adjustment *= 2  # Double the score if genres match\n",
        "\n",
        "            # Less weight to popularity and year\n",
        "            if song_data.at[song_index, 'popularity'] == song_meta['popularity']:\n",
        "                score_adjustment *= 1.1  # Smaller boost for popularity match\n",
        "            year_difference = abs(song_data.at[song_index, 'year'] - song_meta['year'])\n",
        "            score_adjustment *= 1 / (1 + 0.01 * year_difference)  # Small decrease based on year difference\n",
        "\n",
        "            enhanced_scores.append((score_adjustment, idx))\n",
        "\n",
        "    recommended_indices = sorted(enhanced_scores, reverse=True, key=lambda x: x[0])[:top_n]\n",
        "    recommended_songs = [(song_data.iloc[i]['trackname'], song_data.iloc[i]['artistname'], song_data.iloc[i]['genres']) for _, i in recommended_indices]\n",
        "\n",
        "    return recommended_songs\n",
        "\n",
        "# Example usage\n",
        "input_song_name = 'Precious Love'\n",
        "recommended_songs = hybrid_recommend_songs(input_song_name, song_name_to_index, reduced_matrix, song_data, top_n=5)\n",
        "print(f\"Recommended Songs for '{input_song_name}':\")\n",
        "for song, artist, genres in recommended_songs:\n",
        "    print(f\"Song: {song}, Artist: {artist}, Genres: {genres}\")\n"
      ],
      "metadata": {
        "colab": {
          "base_uri": "https://localhost:8080/"
        },
        "id": "tMxVODLtbE8_",
        "outputId": "a9166ef2-2d22-4fd8-9388-34bda97ad71c"
      },
      "execution_count": 5,
      "outputs": [
        {
          "output_type": "stream",
          "name": "stdout",
          "text": [
            "Recommended Songs for 'Precious Love':\n",
            "Song: digging your scene, Artist: the blow monkeys, Genres: dance rock / new romantic / new wave / new wave pop / sophisti-pop / synthpop\n",
            "Song: protection, Artist: massive attack, Genres: Unknown\n",
            "Song: million dollar bash, Artist: bob dylan, Genres: classic rock / country rock / folk / folk rock / rock / roots rock / singer-songwriter\n",
            "Song: act of affection, Artist: wailing souls, Genres: dub / lovers rock / old school dancehall / reggae / rock steady / roots reggae / ska\n",
            "Song: mind, Artist: talking heads, Genres: art punk / art rock / dance rock / funk rock / new wave / permanent wave / post-punk / rock / zolo\n"
          ]
        }
      ]
    },
    {
      "cell_type": "code",
      "source": [
        "# List of songs to check\n",
        "songs_to_check = [\n",
        "    \"flight of the order of the phoenix\",\n",
        "    \"if you see me\",\n",
        "    \"brenda's got a baby\",\n",
        "    \"tin tin por tin tin\",\n",
        "    \"contigo aprendí\"\n",
        "]\n",
        "\n",
        "# Convert track names in the database to lower case for case-insensitive matching\n",
        "song_data['trackname'] = song_data['trackname'].str.lower()\n",
        "\n",
        "# Filter the DataFrame to find rows where the track name is in the songs_to_check list\n",
        "filtered_data = song_data[song_data['trackname'].isin(songs_to_check)]\n",
        "\n",
        "# Select only the relevant columns to display\n",
        "result = filtered_data[['trackname', 'artistname', 'genres']]\n",
        "\n",
        "# Print the results\n",
        "print(result)\n"
      ],
      "metadata": {
        "id": "0JX0lHKVdT9I"
      },
      "execution_count": null,
      "outputs": []
    },
    {
      "cell_type": "code",
      "source": [
        "import pandas as pd\n",
        "import joblib\n",
        "from scipy.sparse import save_npz\n",
        "import pickle\n",
        "\n",
        "# Save the DataFrame\n",
        "song_data.to_pickle('/content/drive/My Drive/DATASET/song_data.pkl')\n",
        "\n",
        "# Save the dictionary using joblib\n",
        "joblib.dump(song_name_to_index, '/content/drive/My Drive/DATASET/song_name_to_index.joblib')\n",
        "\n",
        "# pickle for dictionaries:\n",
        "with open('/content/drive/My Drive/DATASET/song_name_to_index.pickle', 'wb') as handle:\n",
        "    pickle.dump(song_name_to_index, handle, protocol=pickle.HIGHEST_PROTOCOL)\n",
        "\n",
        "\n",
        "# Save the interaction matrix\n",
        "save_npz('/content/drive/My Drive/DATASET/song_interaction_matrix.npz', song_interaction_matrix)\n",
        "\n",
        "# Save the reduced matrix from SVD\n",
        "np.save('/content/drive/My Drive/DATASET/reduced_matrix.npy', reduced_matrix)\n"
      ],
      "metadata": {
        "id": "pBhfpvlTCwYH"
      },
      "execution_count": 6,
      "outputs": []
    }
  ]
}