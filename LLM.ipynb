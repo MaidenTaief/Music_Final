{
 "cells": [
  {
   "cell_type": "code",
   "execution_count": 1,
   "id": "initial_id",
   "metadata": {
    "collapsed": true,
    "ExecuteTime": {
     "end_time": "2024-03-22T08:30:00.492620Z",
     "start_time": "2024-03-22T08:29:57.698064Z"
    }
   },
   "outputs": [
    {
     "data": {
      "text/plain": "    Unnamed: 0         artist  \\\n0            0   Elijah Blake   \n1            1   Elijah Blake   \n2            2   Elijah Blake   \n3            3   Elijah Blake   \n4            4   Elijah Blake   \n5            5   Elijah Blake   \n6            6  Elijah Harris   \n7            7           Elis   \n8            8           Elis   \n9            9           Elis   \n10          10           Elis   \n11          11           Elis   \n12          12           Elis   \n13          13           Elis   \n14          14           Elis   \n15          15           Elis   \n16          16           Elis   \n17          17           Elis   \n18          18           Elis   \n19          19           Elis   \n\n                                                  seq                   song  \\\n0   No, no\\r\\nI ain't ever trapped out the bando\\r...               Everyday   \n1   The drinks go down and smoke goes up, I feel m...       Live Till We Die   \n2   She don't live on planet Earth no more\\r\\nShe ...          The Otherside   \n3   Trippin' off that Grigio, mobbin', lights low\\...                  Pinot   \n4   I see a midnight panther, so gallant and so br...     Shadows & Diamonds   \n5   I just want to ready your mind\\r\\n'Cause I'll ...                    Uno   \n6   To believe\\r\\nOr not to believe\\r\\nThat is the...      Girlfriend (Main)   \n7   Dieses ist lange her.\\r\\nDa ich deine schmalen...              Abendlied   \n8   A child is born\\r\\nOut of the womb of a mother...                  Child   \n9   Out of the darkness you came \\r\\nYou looked so...             Come to Me   \n10  Each night I lie in my bed \\r\\nAnd I think abo...         Do You Believe   \n11  Nebel zieh'n gespentisch vor \\r\\nDer Sucher se...        Engel der Nacht   \n12  I'm a lonely stranger \\r\\nIn this world of pai...           My Only Love   \n13  Schwere Tranen \\r\\nVergebens geweint \\r\\nRinne...  Sie Erfasst Mein Herz   \n14  Come calm my anger\\n\\nOur love is like a perfe...                  Anger   \n15  I was walking through the night\\nSuddenly I re...            Black Angel   \n16  Why can't I hear you breath\\nWhy can't I hold ...       Devil Inside You   \n17  Your cold cold heart has drowned my life in pa...        Heart in Chains   \n18  He took my soul\\nTook my soul\\nIn his hands\\nM...              Lost Soul   \n19  Peel off my skin, make me helpless\\nTaste my b...           Perfect Love   \n\n     label  \n0   0.6260  \n1   0.6300  \n2   0.2400  \n3   0.5360  \n4   0.3710  \n5   0.3210  \n6   0.6010  \n7   0.3330  \n8   0.5060  \n9   0.1790  \n10  0.2090  \n11  0.3210  \n12  0.2010  \n13  0.2180  \n14  0.3060  \n15  0.0958  \n16  0.0894  \n17  0.2100  \n18  0.2430  \n19  0.2320  ",
      "text/html": "<div>\n<style scoped>\n    .dataframe tbody tr th:only-of-type {\n        vertical-align: middle;\n    }\n\n    .dataframe tbody tr th {\n        vertical-align: top;\n    }\n\n    .dataframe thead th {\n        text-align: right;\n    }\n</style>\n<table border=\"1\" class=\"dataframe\">\n  <thead>\n    <tr style=\"text-align: right;\">\n      <th></th>\n      <th>Unnamed: 0</th>\n      <th>artist</th>\n      <th>seq</th>\n      <th>song</th>\n      <th>label</th>\n    </tr>\n  </thead>\n  <tbody>\n    <tr>\n      <th>0</th>\n      <td>0</td>\n      <td>Elijah Blake</td>\n      <td>No, no\\r\\nI ain't ever trapped out the bando\\r...</td>\n      <td>Everyday</td>\n      <td>0.6260</td>\n    </tr>\n    <tr>\n      <th>1</th>\n      <td>1</td>\n      <td>Elijah Blake</td>\n      <td>The drinks go down and smoke goes up, I feel m...</td>\n      <td>Live Till We Die</td>\n      <td>0.6300</td>\n    </tr>\n    <tr>\n      <th>2</th>\n      <td>2</td>\n      <td>Elijah Blake</td>\n      <td>She don't live on planet Earth no more\\r\\nShe ...</td>\n      <td>The Otherside</td>\n      <td>0.2400</td>\n    </tr>\n    <tr>\n      <th>3</th>\n      <td>3</td>\n      <td>Elijah Blake</td>\n      <td>Trippin' off that Grigio, mobbin', lights low\\...</td>\n      <td>Pinot</td>\n      <td>0.5360</td>\n    </tr>\n    <tr>\n      <th>4</th>\n      <td>4</td>\n      <td>Elijah Blake</td>\n      <td>I see a midnight panther, so gallant and so br...</td>\n      <td>Shadows &amp; Diamonds</td>\n      <td>0.3710</td>\n    </tr>\n    <tr>\n      <th>5</th>\n      <td>5</td>\n      <td>Elijah Blake</td>\n      <td>I just want to ready your mind\\r\\n'Cause I'll ...</td>\n      <td>Uno</td>\n      <td>0.3210</td>\n    </tr>\n    <tr>\n      <th>6</th>\n      <td>6</td>\n      <td>Elijah Harris</td>\n      <td>To believe\\r\\nOr not to believe\\r\\nThat is the...</td>\n      <td>Girlfriend (Main)</td>\n      <td>0.6010</td>\n    </tr>\n    <tr>\n      <th>7</th>\n      <td>7</td>\n      <td>Elis</td>\n      <td>Dieses ist lange her.\\r\\nDa ich deine schmalen...</td>\n      <td>Abendlied</td>\n      <td>0.3330</td>\n    </tr>\n    <tr>\n      <th>8</th>\n      <td>8</td>\n      <td>Elis</td>\n      <td>A child is born\\r\\nOut of the womb of a mother...</td>\n      <td>Child</td>\n      <td>0.5060</td>\n    </tr>\n    <tr>\n      <th>9</th>\n      <td>9</td>\n      <td>Elis</td>\n      <td>Out of the darkness you came \\r\\nYou looked so...</td>\n      <td>Come to Me</td>\n      <td>0.1790</td>\n    </tr>\n    <tr>\n      <th>10</th>\n      <td>10</td>\n      <td>Elis</td>\n      <td>Each night I lie in my bed \\r\\nAnd I think abo...</td>\n      <td>Do You Believe</td>\n      <td>0.2090</td>\n    </tr>\n    <tr>\n      <th>11</th>\n      <td>11</td>\n      <td>Elis</td>\n      <td>Nebel zieh'n gespentisch vor \\r\\nDer Sucher se...</td>\n      <td>Engel der Nacht</td>\n      <td>0.3210</td>\n    </tr>\n    <tr>\n      <th>12</th>\n      <td>12</td>\n      <td>Elis</td>\n      <td>I'm a lonely stranger \\r\\nIn this world of pai...</td>\n      <td>My Only Love</td>\n      <td>0.2010</td>\n    </tr>\n    <tr>\n      <th>13</th>\n      <td>13</td>\n      <td>Elis</td>\n      <td>Schwere Tranen \\r\\nVergebens geweint \\r\\nRinne...</td>\n      <td>Sie Erfasst Mein Herz</td>\n      <td>0.2180</td>\n    </tr>\n    <tr>\n      <th>14</th>\n      <td>14</td>\n      <td>Elis</td>\n      <td>Come calm my anger\\n\\nOur love is like a perfe...</td>\n      <td>Anger</td>\n      <td>0.3060</td>\n    </tr>\n    <tr>\n      <th>15</th>\n      <td>15</td>\n      <td>Elis</td>\n      <td>I was walking through the night\\nSuddenly I re...</td>\n      <td>Black Angel</td>\n      <td>0.0958</td>\n    </tr>\n    <tr>\n      <th>16</th>\n      <td>16</td>\n      <td>Elis</td>\n      <td>Why can't I hear you breath\\nWhy can't I hold ...</td>\n      <td>Devil Inside You</td>\n      <td>0.0894</td>\n    </tr>\n    <tr>\n      <th>17</th>\n      <td>17</td>\n      <td>Elis</td>\n      <td>Your cold cold heart has drowned my life in pa...</td>\n      <td>Heart in Chains</td>\n      <td>0.2100</td>\n    </tr>\n    <tr>\n      <th>18</th>\n      <td>18</td>\n      <td>Elis</td>\n      <td>He took my soul\\nTook my soul\\nIn his hands\\nM...</td>\n      <td>Lost Soul</td>\n      <td>0.2430</td>\n    </tr>\n    <tr>\n      <th>19</th>\n      <td>19</td>\n      <td>Elis</td>\n      <td>Peel off my skin, make me helpless\\nTaste my b...</td>\n      <td>Perfect Love</td>\n      <td>0.2320</td>\n    </tr>\n  </tbody>\n</table>\n</div>"
     },
     "execution_count": 1,
     "metadata": {},
     "output_type": "execute_result"
    }
   ],
   "source": [
    "#read csv and load into dataframe\n",
    "\n",
    "import pandas as pd\n",
    "file_path = '/Users/taief/Desktop/Music_Final/labeled_lyrics_cleaned.csv'\n",
    "\n",
    "lyrics_df = pd.read_csv('labeled_lyrics_cleaned.csv')\n",
    "lyrics_df.head(20)"
   ]
  },
  {
   "cell_type": "code",
   "execution_count": 7,
   "outputs": [
    {
     "name": "stdout",
     "output_type": "stream",
     "text": [
      "         artist                                                seq  \\\n",
      "0  Elijah Blake  no no  i aint ever trapped out the bando  but ...   \n",
      "1  Elijah Blake  the drinks go down and smoke goes up i feel my...   \n",
      "2  Elijah Blake  she dont live on planet earth no more  she fou...   \n",
      "3  Elijah Blake  trippin off that grigio mobbin lights low  tri...   \n",
      "4  Elijah Blake  i see a midnight panther so gallant and so bra...   \n",
      "\n",
      "                 song  label  \n",
      "0            Everyday  0.626  \n",
      "1    Live Till We Die  0.630  \n",
      "2       The Otherside  0.240  \n",
      "3               Pinot  0.536  \n",
      "4  Shadows & Diamonds  0.371  \n"
     ]
    }
   ],
   "source": [
    "import pandas as pd\n",
    "\n",
    "# Assuming you've already read the CSV into a DataFrame named 'lyrics_df'\n",
    "# If not, you can uncomment the next line to read it from a file\n",
    "# lyrics_df = pd.read_csv('/path/to/your/data.csv')\n",
    "\n",
    "# Check if 'Unnamed: 0' exists in the DataFrame and drop it if present\n",
    "if 'Unnamed: 0' in lyrics_df.columns:\n",
    "    lyrics_df = lyrics_df.drop('Unnamed: 0', axis=1)\n",
    "\n",
    "# Create a copy to avoid SettingWithCopyWarning when dropping na\n",
    "lyrics_df_cleaned = lyrics_df.copy()\n",
    "lyrics_df_cleaned.dropna(inplace=True)\n",
    "\n",
    "# Normalize text in 'seq'\n",
    "lyrics_df_cleaned['seq'] = lyrics_df_cleaned['seq'].str.lower()\\\n",
    "                                                    .replace(r'[\\r\\n]', ' ', regex=True)\\\n",
    "                                                    .replace('[^a-z ]', '', regex=True)\n",
    "\n",
    "# Remove duplicates based on 'artist' and 'song'\n",
    "lyrics_df_cleaned = lyrics_df_cleaned.drop_duplicates(subset=['artist', 'song'])\n",
    "\n",
    "# Reset the index of the DataFrame after dropping duplicates\n",
    "lyrics_df_cleaned.reset_index(drop=True, inplace=True)\n",
    "\n",
    "# Quick look at the cleaned data\n",
    "print(lyrics_df_cleaned.head())\n",
    "\n",
    "#save the clean df\n",
    "lyrics_df_cleaned.to_csv('/Users/taief/Desktop/Music_Final/data_cleaned.csv', index=False)\n"
   ],
   "metadata": {
    "collapsed": false,
    "ExecuteTime": {
     "end_time": "2024-03-22T08:40:35.709492Z",
     "start_time": "2024-03-22T08:40:26.420967Z"
    }
   },
   "id": "7cb927e5a2569fc8"
  },
  {
   "cell_type": "code",
   "execution_count": 11,
   "outputs": [],
   "source": [
    "import pandas as pd\n",
    "\n",
    "# Load the dataset\n",
    "file_path = '/Users/taief/Desktop/Music_Final/data.csv'\n",
    "data_final = pd.read_csv(file_path)\n",
    "\n",
    "# Extract and clean artist names from data_final\n",
    "# Since artists are stored in a list-like format as strings, we'll extract them properly\n",
    "import ast  # Import Abstract Syntax Trees to safely evaluate strings containing Python literals\n",
    "data_final['artists'] = data_final['artists'].apply(ast.literal_eval).apply(lambda x: [artist.lower() for artist in x])\n",
    "\n",
    "# Unpack the list of artists and get unique artists in lower case\n",
    "unique_artists = set(artist for sublist in data_final['artists'] for artist in sublist)"
   ],
   "metadata": {
    "collapsed": false,
    "ExecuteTime": {
     "end_time": "2024-03-22T08:51:25.294028Z",
     "start_time": "2024-03-22T08:51:22.240594Z"
    }
   },
   "id": "39dca5d35936e45"
  },
  {
   "cell_type": "code",
   "execution_count": 13,
   "outputs": [
    {
     "name": "stdout",
     "output_type": "stream",
     "text": [
      "         artist                                                seq  \\\n",
      "30  elis regina  deve ser bom deve ser bom  to fechado pra bala...   \n",
      "31  elis regina  once there was a way to get back homeward  onc...   \n",
      "32  elis regina  gracias a la vida que me ha dado tanto  me dio...   \n",
      "33  elis regina  sad is to live in solitude  far from your tran...   \n",
      "34  elis regina  let someone start believing in you  let him ho...   \n",
      "35        elisa  tell me who you are now what youre waiting for...   \n",
      "36        elisa  tic tac tic tac  run up those stairs cause som...   \n",
      "37        elisa  why do you wanna know everything why do you ne...   \n",
      "38        elisa  what shall i do  just to feel a little over ze...   \n",
      "39        elisa  cover of velvet underground  lou reed  here sh...   \n",
      "40        elisa  i heard there was a secret chord that david pl...   \n",
      "41        elisa  tell me about the place youre from  tell me ab...   \n",
      "42        elisa  a shower of pure joy  a shower of pure joy  a ...   \n",
      "43        elisa  together here we are boy and girl walk alone  ...   \n",
      "44        elisa  you did not dare say a single word  i did not ...   \n",
      "45        elisa  try and catch the light   try and catch the su...   \n",
      "46        elisa  uh boy  what do you think  i do baby   your vo...   \n",
      "47        elisa  hold my hand peter pan  hold my hand peter pan...   \n",
      "48        elisa  push me pull me round and round   and ill thin...   \n",
      "49        elisa  ive been waiting a lifetime in anticipation  i...   \n",
      "\n",
      "                     song  label  \n",
      "30    Fechado Pra Balanco  0.862  \n",
      "31        Golden Slumbers  0.404  \n",
      "32      Gracias a la Vida  0.594  \n",
      "33                 Triste  0.448  \n",
      "34     Watch What Happens  0.465  \n",
      "35                Tell Me  0.252  \n",
      "36                Tic Tac  0.156  \n",
      "37                  Fever  0.416  \n",
      "38     A Little Over Zero  0.156  \n",
      "39           Femme Fatale  0.165  \n",
      "40             Hallelujah  0.073  \n",
      "41           In the Green  0.129  \n",
      "42           Life Goes On  0.140  \n",
      "43               Together  0.331  \n",
      "44                   Stay  0.368  \n",
      "45        Catch the Light  0.277  \n",
      "46        Love Me Forever  0.886  \n",
      "47              Peter Pan  0.860  \n",
      "48              Ready Now  0.116  \n",
      "49  Waste Your Time on Me  0.264  \n",
      "Number of unique artists in the filtered DataFrame: 4211\n"
     ]
    }
   ],
   "source": [
    "# Convert artist names in lyrics_df_cleaned to lower case for matching\n",
    "lyrics_df_cleaned['artist'] = lyrics_df_cleaned['artist'].str.lower()\n",
    "\n",
    "# Filter lyrics_df_cleaned to keep rows where the artist is in unique_artists list\n",
    "lyrics_df_filtered = lyrics_df_cleaned[lyrics_df_cleaned['artist'].isin(unique_artists)]\n",
    "\n",
    "# Display the first few rows of the filtered DataFrame\n",
    "print(lyrics_df_filtered.head(20))\n",
    "\n",
    "# Count the number of unique artists in the filtered lyrics DataFrame\n",
    "unique_artists_count = lyrics_df_filtered['artist'].nunique()\n",
    "print(f\"Number of unique artists in the filtered DataFrame: {unique_artists_count}\")\n",
    "\n",
    "# Save the filtered DataFrame to a CSV file\n",
    "lyrics_df_filtered.to_csv('/Users/taief/Desktop/Music_Final/filtered_lyrics.csv', index=False)\n"
   ],
   "metadata": {
    "collapsed": false,
    "ExecuteTime": {
     "end_time": "2024-03-22T08:52:42.227386Z",
     "start_time": "2024-03-22T08:52:38.601968Z"
    }
   },
   "id": "c41f168f7bcbf1cb"
  },
  {
   "cell_type": "code",
   "execution_count": 14,
   "outputs": [],
   "source": [
    "#track name and artist name "
   ],
   "metadata": {
    "collapsed": false,
    "ExecuteTime": {
     "end_time": "2024-03-22T10:12:06.060892Z",
     "start_time": "2024-03-22T10:12:06.034453Z"
    }
   },
   "id": "f0c31e85779ccbae"
  },
  {
   "cell_type": "code",
   "execution_count": null,
   "outputs": [],
   "source": [],
   "metadata": {
    "collapsed": false
   },
   "id": "e25c70d1e1a5cdd9"
  }
 ],
 "metadata": {
  "kernelspec": {
   "display_name": "Python 3",
   "language": "python",
   "name": "python3"
  },
  "language_info": {
   "codemirror_mode": {
    "name": "ipython",
    "version": 2
   },
   "file_extension": ".py",
   "mimetype": "text/x-python",
   "name": "python",
   "nbconvert_exporter": "python",
   "pygments_lexer": "ipython2",
   "version": "2.7.6"
  }
 },
 "nbformat": 4,
 "nbformat_minor": 5
}
