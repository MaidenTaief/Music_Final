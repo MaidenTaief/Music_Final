{
  "nbformat": 4,
  "nbformat_minor": 0,
  "metadata": {
    "colab": {
      "provenance": [],
      "machine_shape": "hm",
      "gpuType": "V100",
      "mount_file_id": "1i7ayxH9ya5-gBqsLiBlKyQEpu9ye1GzE",
      "authorship_tag": "ABX9TyPFKxkWB39HMLDMiPA47ZNQ",
      "include_colab_link": true
    },
    "kernelspec": {
      "name": "python3",
      "display_name": "Python 3"
    },
    "language_info": {
      "name": "python"
    }
  },
  "cells": [
    {
      "cell_type": "markdown",
      "metadata": {
        "id": "view-in-github",
        "colab_type": "text"
      },
      "source": [
        "<a href=\"https://colab.research.google.com/github/MaidenTaief/Music_Final/blob/Mac/Taief234.ipynb\" target=\"_parent\"><img src=\"https://colab.research.google.com/assets/colab-badge.svg\" alt=\"Open In Colab\"/></a>"
      ]
    },
    {
      "cell_type": "code",
      "execution_count": 1,
      "metadata": {
        "colab": {
          "base_uri": "https://localhost:8080/"
        },
        "id": "gy3h94nxoHer",
        "outputId": "606f5ed4-f345-44e6-b68b-cfbb69e9eeaf"
      },
      "outputs": [
        {
          "output_type": "stream",
          "name": "stdout",
          "text": [
            "Drive already mounted at /content/drive; to attempt to forcibly remount, call drive.mount(\"/content/drive\", force_remount=True).\n",
            "Listing My Drive:\n",
            "['DSC_0037.JPG', 'DSC_0031.JPG', 'DSC_0092.JPG', 'DSC_0042.JPG', 'DSC_0039.JPG', 'DSC_0013.JPG', 'DSC_0043.JPG', 'DSC_0038.JPG', 'DSC_0199.JPG', 'DSC_0041.JPG', 'DSC_0451.JPG', 'DSC_0469.JPG', 'DSC_0441.JPG', 'DSC_0445.JPG', 'DSC_0458.JPG', 'DSC_0464.JPG', 'DSC_0507.JPG', 'DSC_0447.JPG', 'DSC_0483.JPG', 'DSC_0517.JPG', 'DSC_0562.JPG', 'DSC_0548.JPG', 'DSC_0550.JPG', 'DSC_0552.JPG', 'DSC_0559.JPG', 'DSC_0551.JPG', 'DSC_0526.JPG', 'DSC_0569.JPG', 'DSC_0576.JPG', 'DSC_0484.JPG', 'DSC_0620.JPG', 'DSC_0571.JPG', 'DSC_0634.JPG', 'DSC_0580.JPG', 'DSC_0568.JPG', 'DSC_0625.JPG', 'DSC_0479.JPG', 'DSC_0574.JPG', 'DSC_0565.JPG', 'DSC_0635.JPG', 'DSC_0679.JPG', 'DSC_0669.JPG', 'DSC_0674.JPG', 'DSC_0556.JPG', 'DSC_0685.JPG', 'DSC_0682.JPG', 'DSC_0698.JPG', 'DSC_0659.JPG', 'DSC_0718.JPG', 'DSC_0728.JPG', 'DSC_0731.JPG', 'DSC_0733.JPG', 'DSC_0723.JPG', 'DSC_0697.JPG', 'DSC_0732.JPG', 'DSC_0741.JPG', 'DSC_0700.JPG', 'DSC_0761.JPG', 'DSC_0742.JPG', 'DSC_0766.JPG', 'DSC_0692.JPG', 'DSC_0777.JPG', 'DSC_0765.JPG', 'DSC_0769.JPG', 'DSC_0785.JPG', 'DSC_0788.JPG', 'DSC_0819.JPG', 'DSC_0779.JPG', 'DSC_0877.JPG', 'DSC_0770.JPG', 'DSC_0774.JPG', 'DSC_0789.JPG', 'DSC_0798.JPG', 'DSC_0828.JPG', 'DSC_0803.JPG', 'DSC_0832.JPG', 'DSC_0836.JPG', 'DSC_0801.JPG', 'DSC_0881.JPG', 'DSC_0835.JPG', 'DSC_0792.JPG', 'DSC_0916.JPG', 'DSC_0824.JPG', 'DSC_0860.JPG', 'DSC_0865.JPG', 'DSC_0897.JPG', 'DSC_0848.JPG', 'DSC_0890.JPG', 'DSC_0866.JPG', 'DSC_0862.JPG', 'DSC_0966.JPG', 'DSC_0887.JPG', 'DSC_0907.JPG', 'DSC_0917.JPG', 'DSC_0908.JPG', 'DSC_0904.JPG', 'DSC_0922.JPG', 'DSC_0902.JPG', 'DSC_0909.JPG', 'DSC_0935.JPG', 'DSC_0911.JPG', 'DSC_0965.JPG', 'DSC_0940.JPG', 'DSC_0954.JPG', 'DSC_0945.JPG', 'DSC_0957.JPG', 'DSC_0949.JPG', 'DSC_0967.JPG', 'DSC_0952.JPG', 'DSC_0936.JPG', 'DSC_0990.JPG', 'DSC_0972.JPG', 'DSC_1028.JPG', 'DSC_0968.JPG', 'DSC_0969.JPG', 'DSC_0996.JPG', 'DSC_0977.JPG', 'DSC_0991.JPG', 'DSC_0971.JPG', 'DSC_0989.JPG', 'DSC_0974.JPG', 'DSC_1040.JPG', 'DSC_0998.JPG', 'DSC_1029.JPG', 'DSC_1045.JPG', 'DSC_1043.JPG', 'DSC_1022.JPG', 'DSC_1042.JPG', 'DSC_1058.JPG', 'DSC_1047.JPG', 'DSC_1064.JPG', 'DSC_1066.JPG', 'DSC_1063.JPG', 'DSC_1070.JPG', 'DSC_1071.JPG', 'DSC_1033.JPG', 'IMG_20150311_181726.jpg', 'IMG_20150313_163444.jpg', '20150804_145401.jpg', '20150804_053848.jpg', '20150804_145359.jpg', 'DSC_0157 (1).JPG', 'A.JPG', 'DSC_0156.JPG', 'DSC_1051.JPG', 'DSC_0052.JPG', 'DSC_0158.JPG', 'DSC_0144.JPG', 'DSC_0179 (1).JPG', 'DSC_1068.JPG', 'DSC_0174.JPG', 'DSC_0185~2~2.jpg', 'DSC_0180.JPG', 'DSC_0176.JPG', 'DSC_0188.JPG', 'DSC_0178.JPG', 'DSC_0187~2.jpg', 'DSC_0189~2.jpg', 'DSC_1069.JPG', 'DSC_0199~2.jpg', 'DSC_0198.JPG', 'DSC_0192.JPG', 'DSC_0190.JPG', 'DSC_0197.JPG', 'DSC_0196.JPG', 'DSC_0043 (1).JPG', 'DSC_0042 (1).JPG', 'f.kaioum-saidul-jaidul-sadik_001.jpg', 'DSC_1048.JPG', 'IMG_20140410_175420.jpg', 'IMG_20141216_121704 - Copy.jpg', 'IMG_20150225_181729.JPG', 'F.jaidul-ashraful-abubaker-saidul-sakib.jpg', 'DSC_0643.jpg', 'IMG_20150314_155946.jpg', 'IMG_20150520_133922.jpg', 'IMG_20150405_182046.jpg', 'IMG_20150314_160056.jpg', 'DSC_1050.JPG', 'IMG_20150507_232114.JPG', 'IMG_20150330_173146.jpg', 'IMG_20150322_122013.jpg', 'IMG_83285127941329.jpeg', 'IMG_20151230_235525.jpg', 'IMG_20151121_112619.jpg', 'IMG_1842311675521.jpeg', 'IMG_3077899619830.jpeg', '2015-08-03 09.10.53.jpg', 'IMG_2600115856724.jpeg', 'IMG_3154589349715.jpeg', '2015-08-03 09.15.01.jpg', 'IMG_20151230_225339.jpg', 'Photo0615.jpg', 'IMG-20150301-WA0009.jpg', 'Photo0630.jpg', '1237427_323758231103641_752949305_o.jpg', 'IMG_83395051640386 (1).jpeg', '423224_184570721689060_1271615987_n.jpg', '10633258_372073539615740_2131975194351450535_o.jpg', '856776_216987928447339_1435796100_o.jpg', '64475_1712120095686007_35937484800130593_n.jpg', '11182257_678522055627255_3965416138206953316_n.jpg', '10358871_1641616329393002_4099088204446113152_n.jpg', '10176214_1494835034071133_1471408393_n.jpg', '10392502_1607221142832521_4691802523614783789_n.jpg', '1462543_378425175636946_1904066237_o.jpg', '12074961_1707751756112792_5814482828317682770_n.jpg', '12027756_1703653673189267_7549264434578014606_n.jpg', '11728869_712241128904847_440343624008993477_o.jpg', '_20150723_164720.JPG', '_20150722_202815.JPG', '070720161422.jpg', '_20150723_184439.JPG', '_20150722_121434.JPG', '_20150722_121621.JPG', '_20150723_182808.JPG', '_20150723_204119.JPG', '_20150723_204353.JPG', '_20150724_103418.JPG', '_20150724_103535.JPG', '_20150724_103440.JPG', '_20150724_103456.JPG', '20150803_205811.jpg', '_20150723_204239.JPG', '_20150724_103800.JPG', '_20150726_185512.JPG', '_20150724_103733.JPG', '_20150724_103712.JPG', '_20150731_182055.JPG', '_20150810_051604.JPG', '_20150805_201700.JPG', '_20150821_092220.JPG', '_20150821_135428.JPG', '20150804_054116.jpg', '_20150729_100819.JPG', '_20150728_120558.JPG', '_20150805_071124.JPG', '_20150804_190730.JPG', '_20151216_110457.JPG', '_20160114_193042.JPG', '_20160114_221745.JPG', '_20160120_115326.JPG', '_20160122_141851.JPG', '_20160203_145840.JPG', '2015-07-03 06.08.16-1.jpg', '_20151216_110553.JPG', '_20160114_193000.JPG', '_20160209_190125.JPG', '_20160114_192920.JPG', '_20160131_220516.JPG', '_20160223_183921.JPG', '_20160226_215142.JPG', '_20160318_195640.JPG', '_20160318_195624.JPG', '_20160309_150806.JPG', '2015-08-03 21.54.01.jpg', '_20160226_215019.JPG', 'DSC_0023.JPG', '_20160309_150356.JPG', '_20160226_214950.JPG', '_20160318_195827.JPG', '_20160501_192534.JPG', '_20160318_195655.JPG', '_20160325_110547.JPG', '_20160415_001217.JPG', '_20160501_231339.JPG', '_20160704_193448.JPG', 'Aplod2.JPG', '_20160713_130034.JPG', '_20160713_104033.JPG', '_20160501_231132.JPG', '_20160501_231324.JPG', '_20160501_231420.JPG', '_20160501_231442.JPG', '_20160710_162038.JPG', 'duy.JPG', '_20160815_220225.JPG', '_20160815_181250.JPG', 'DSC_0161 (1).JPG', 'DSC_0160.JPG', '_20160807_224209.JPG', 'FB_IMG_14532670874994777 - Copy.jpg', 'FB_IMG_14532670514983622 - Copy.jpg', 'FB_IMG_14532671606307004.jpg', 'FB_IMG_14532671606307004 - Copy.jpg', 'FB_IMG_14532670023389319.jpg', 'FB_IMG_14532670023389319 - Copy.jpg', 'FB_IMG_14532670874994777.jpg', 'FB_IMG_1469521224070.jpg', 'FB_IMG_14532670514983622.jpg', 'DSC_0159.JPG', 'FB_IMG_14532668388409844.jpg', 'FB_IMG_14532679901110996.jpg', 'FB_IMG_14564013094424077.jpg', 'FB_IMG_14532683444310885.jpg', 'FB_IMG_14564013583962723.jpg', 'FB_IMG_14532683313996892.jpg', 'FB_IMG_14552891549318258.jpg', 'FB_IMG_14532683778212208.jpg', 'FB_IMG_14564013209162364.jpg', 'FB_IMG_14532685639136790.jpg', 'DSC_0167.JPG', 'FB_IMG_14564013450635572.jpg', 'FB_IMG_14663362389065134.jpg', 'IMG_4496602419882.jpeg', 'FB_IMG_14564013720075148.jpg', 'FB_IMG_14663362268943068.jpg', 'IMG_83063118754722.jpeg', 'IMG_20661091879065.jpeg', 'FB_IMG_14564013928183466.jpg', 'IMG_11815292601343.jpeg', 'FB_IMG_14573280604852022.jpg', 'DSC_0164.JPG', 'FB_IMG_14564014027478768.jpg', 'IMG_83073088051229.jpeg', 'IMG_83395051640386 - Copy.jpeg', 'IMG_83395051640386.jpeg', 'IMG_83318708621930.jpeg', 'IMG_83339333282388.jpeg', 'IMG_83091117900149.jpeg', 'IMG_83274616847175.jpeg', 'IMG_83374135724013.jpeg', 'IMG_83348701724323.jpeg', 'DSC_0170.JPG', 'IMG_83454987333953.jpeg', 'IMG_83445998107646.jpeg', '13835672_1699309703641106_1968281360_o.jpg', '13838352_1699311090307634_119378091_o (1).jpg', '13840658_1699311080307635_1791109260_o.jpg', 'received_289510058095654.jpeg', 'received_289510701428923.jpeg', 'received_289509998095660.jpeg', 'received_289510748095585.jpeg', 'received_1721701918068551.jpeg', 'DSC_0169.JPG', 'received_289512918095368.jpeg', 'received_289511028095557.jpeg', 'received_1721701921401884.jpeg', 'DSC_0163.JPG', 'DSC_0162.JPG', 'DSC_0168.JPG', 'DSC_0189 (1).JPG', 'DSC_0172.JPG', 'DSC_0623.jpg', 'DSC_0637.jpg', 'DSC_0638.jpg', 'DSC_0651.jpg', 'DSC_0654.jpg', 'IMG_20150314_134304.jpg', 'received_649591491853645.jpeg', 'received_649591478520313.jpeg', 'received_649591488520312.jpeg', 'received_649591458520315.jpeg', 'received_649591455186982.jpeg', 'received_649591465186981.jpeg', 'received_649606838518777.jpeg', 'received_649606831852111.jpeg', 'received_649606848518776.jpeg', 'received_649606828518778.jpeg', 'IMG_20150302_171716.jpg', 'received_857258701073137.jpeg', 'received_855128721286135.jpeg', 'received_857258747739799.jpeg', 'received_835126053286386.jpeg', 'received_835125526619772.jpeg', 'received_857258751073132.jpeg', 'received_857258691073138.jpeg', 'received_857258684406472.jpeg', 'received_649606851852109.jpeg', 'received_857258757739798.jpeg', 'IMG_20150302_171700-1.jpg', 'received_857258787739795.jpeg', 'received_857258811073126.jpeg', 'received_894239467388845.jpeg', 'received_1715747248676482.jpeg', 'received_1744774602406385.jpeg', 'received_1715747265343147.jpeg', 'received_1744774579073054.jpeg', 'received_894239427388849.jpeg', 'IMG_20150807_145420.jpg', '_20150723_114530.JPG', '_20150723_163952.JPG', '_20150723_185425.JPG', '_20160414_143100.JPG', '_20160414_143001.JPG', '_20160416_130446.JPG', '_20160416_130539.JPG', 'DSC_0628.jpg', '_20160319_182158.JPG', 'IMG_20141026_093406.jpg', 'IMG_20150206_230900.jpg', 'IMG_20150114_124706.jpg', 'IMG_20141216_121306.jpg', 'IMG_20141228_155557.jpg', 'IMG_20150212_174156.jpg', 'IMG_20150223_140403.jpg', 'IMG_20150223_140427.jpg', 'IMG_20150209_171208.jpg', 'IMG_20150219_113139.jpg', 'IMG_20150522_154955.jpg', 'IMG_20160722_124351.jpg', 'IMG_20150522_155209.jpg', '_20160416_130605.JPG', 'IMG_20150522_155154.jpg', 'IMG_20160722_124950.jpg', 'IMG_20160722_124855.jpg', 'IMG_20160722_124426.jpg', 'IMG_20160722_124500.jpg', 'IMG_20150522_155040.jpg', 'IMG_20160722_124625 - Copy.jpg', '_20160414_142918.JPG', 'IMG_20160722_124800.jpg', '_20160708_153603.JPG', 'IMG_20160722_125246.jpg', 'IMG_20160722_125824.jpg', 'IMG_20160722_125757.jpg', 'IMG_20160722_125831.jpg', 'IMG_20160722_130015.jpg', 'IMG_20160722_125525.jpg', 'IMG_20160722_125234.jpg', 'IMG_20160722_125912.jpg', 'IMG_20160722_125620.jpg', '_20160723_112156.JPG', 'IMG_83098063757007.jpeg', 'IMG_20160722_125345.jpg', 'IMG_20160722_131758.jpg', 'IMG_20160722_130128.jpg', 'IMG_20160722_131739.jpg', 'IMG_20160722_130226.jpg', 'IMG_20160722_131713.jpg', 'IMG_20160722_131907.jpg', 'IMG_20160722_131849.jpg', 'IMG-20150301-WA0011.jpg', 'IMG_55823428346201.jpeg', 'DSC_0345.jpg', 'IMG_20160817_165042.jpg', 'IMG_20160817_165346.jpg', 'IMG_20160817_165228.jpg', 'DSC_0626.jpg', 'IMG20160722131330.jpg', 'Me,deloar.jpg', 'received_616103121856601.jpeg.jpg', 'IMG_20150601_125704.jpg', 'IMG_20150606_120823.jpg', 'IMG_20150522_154849.jpg', 'IMG_20150606_120812.jpg', 'DSC_0627.jpg', 'IMG_20150802_182409.jpg', 'IMG_20150602_104220.jpg', 'delow.jpg', 'IMG_20150602_104159.jpg', 'DSC_0641.jpg', 'DSC_0621.jpg', 'DSC_0647.jpg', 'DSC_0652.jpg', 'IMG_20141213_172556.jpg', 'IMG_20141129_034300.jpg', 'IMG_20150105_231307.jpg', 'IMG_20141217_004136.jpg', 'IMG_20150217_175626.jpg', 'IMG_20150217_171238.jpg', 'IMG_20150302_171734.jpg', 'IMG_20150302_171651.jpg', 'P_20160708_184700_BF.jpg', 'P_20160708_184705_BF.jpg', 'P_20160708_183447_BF.jpg', 'DSC_0642.jpg', 'P_20160708_194205_BF.jpg', 'P_20160708_194218_BF.jpg', 'DSC_0658.jpg', 'IMG_20160817_163119.jpg', 'IMG_20160817_163401.jpg', 'IMG_20160817_163407.jpg', 'IMG_20160817_163437.jpg', 'IMG_20160817_163543.jpg', 'IMG_20160817_163902.jpg', 'IMG_20160817_163702.jpg', 'IMG_20160817_163742.jpg', '14010096_857258701073137_1589332593_n.jpg', '13988721_857258747739799_1849398833_n.jpg', '13937974_1821830581381364_6635850819065507119_o.jpg', '14010070_857258684406472_2138542534_n.jpg', '14012032_857258757739798_1501224990_n.jpg', '13956969_857258811073126_1894483751_n.jpg', '13987558_1821830441381378_8239430152995146367_o.jpg', '12973136_1774894999408256_9216639176415297778_o.jpg', '13940942_857258691073138_944695302_n.jpg', '14012028_857258751073132_280747100_n.jpg', '14012147_857258787739795_1493307685_n.jpg', 'IMG20160722124940.jpg', 'IMG20160722124859.jpg', 'IMG20160722125054.jpg', 'IMG20160722124853.jpg', 'IMG20160722124757.jpg', 'IMG20160722124810.jpg', 'IMG20160722131444.jpg', 'IMG20160722121015.jpg', 'IMG20160722131446.jpg', 'IMG_20150718_110526.jpg', 'P_20160708_184613_BF.jpg', 'P_20160708_113306_BF.jpg', 'P_20160708_184821.jpg', 'P_20160708_183120.jpg', 'P_20160708_182717.jpg', 'P_20160708_184944.jpg', 'P_20160708_184854.jpg', 'P_20160708_185411_BF.jpg', 'Screenshot_2015-06-03-02-37-58.png', 'Screenshot_2015-07-26-18-59-34.png', 'Screenshot_2015-08-24-19-55-16.png', 'Screenshot_2015-06-16-18-57-17.png', 'Screenshot_2015-06-16-18-54-41.png', 'Screenshot_2015-06-16-18-59-29.png', 'Screenshot_2015-07-24-19-50-46.png', 'Screenshot_2015-11-08-18-48-13.png', 'Screenshot_2015-06-16-19-06-50.png', 'Screenshot_2015-11-29-17-20-39.png', 'Screenshot_2016-05-01-19-27-44.png', 'Screenshot_2016-03-19-18-24-43.png', 'Screenshot_2015-11-29-17-20-55.png', 'Screenshot_2016-03-08-12-30-01.png', 'Screenshot_2016-02-27-15-20-05.png', 'Screenshot_2016-01-02-12-31-20.png', 'Screenshot_2015-12-12-18-04-03.png', 'DSC_0150.JPG', 'DSC_0044.JPG', 'DSC_0189.JPG', 'DSC_0114.JPG', 'DSC_0094.JPG', 'DSC_0074.JPG', 'DSC_0069.JPG', 'DSC_0149.JPG', 'DSC_0075.JPG', 'DSC_0396.JPG', 'DSC_0048.JPG', 'DSC_0185.JPG', 'DSC_0157.JPG', 'DSC_0179.JPG', 'DSC_0186.JPG', 'DSC_0161.JPG', 'DSC_0151.JPG', 'DSC_0154.JPG', 'DSC_0183.JPG', 'DSC_0155.JPG', 'DSC_0181.JPG', 'DSC_0194.JPG', 'DSC_0221.JPG', 'DSC_0201.JPG', 'DSC_0200.JPG', 'DSC_0187.JPG', 'DSC_0193.JPG', 'DSC_0202.JPG', 'DSC_0223.JPG', 'DSC_0229.JPG', 'DSC_0228.JPG', 'DSC_0231.JPG', 'DSC_0232.JPG', 'DSC_0225.JPG', 'DSC_0255.JPG', 'DSC_0248.JPG', 'DSC_0249.JPG', 'DSC_0261.JPG', 'DSC_0262.JPG', 'DSC_0268.JPG', 'DSC_0273.JPG', 'DSC_0276.JPG', 'DSC_0272.JPG', 'DSC_0285.JPG', 'DSC_0280.JPG', 'DSC_0282.JPG', 'DSC_0271.JPG', 'DSC_0277.JPG', 'DSC_0288.JPG', 'DSC_0279.JPG', 'DSC_0311.JPG', 'DSC_0291.JPG', 'DSC_0364.JPG', 'DSC_0315.JPG', 'DSC_0362.JPG', 'DSC_0289.JPG', 'DSC_0361.JPG', 'DSC_0316.JPG', 'DSC_0350.JPG', 'DSC_0367.JPG', 'DSC_0393.JPG', 'DSC_0414.JPG', 'DSC_0394.JPG', 'DSC_0371.JPG', 'DSC_0428.JPG', 'DSC_0398.JPG', 'DSC_0420.JPG', 'DSC_0404.JPG', '14470787_1653063705006230_539926841_n.jpg', '14459863_1653063731672894_790565509_n.jpg', '14445327_1653063715006229_183260231_n.jpg', '14483690_1653063701672897_850183319_n.jpg', '14458858_1653063771672890_1737283679_n.jpg', '14470863_1653069025005698_1640947160_n.jpg', '14463683_1653069031672364_1963283741_n.jpg', 'PIC', 'FB_IMG_1480611350194.jpg', '2016-12-30-11-23-20-821.jpg', '2016-12-30-11-19-41-701.jpg', '2016-12-30-11-24-07-758.jpg', '2016-12-30-11-19-28-973.jpg', '2016-12-28-17-15-46-520.jpg', '2016-12-30-11-20-01-424.jpg', '2016-12-30-11-20-12-290.jpg', '2016-12-30-11-23-31-521.jpg', '2016-12-30-11-19-14-553.jpg', '2016-12-30-11-24-30-480.jpg', '2016-12-30-11-20-42-577.jpg', '2016-12-30-11-25-56-069.jpg', '2016-12-30-11-28-47-469.jpg', '2016-12-30-11-25-08-605.jpg', '2016-12-30-11-30-40-623.jpg', '2016-12-30-11-34-22-319.jpg', '2016-12-30-11-31-02-410.jpg', '2016-12-30-11-30-12-905.jpg', '2016-12-30-11-31-24-738.jpg', '2016-12-30-11-31-14-294.jpg', '2016-12-30-11-34-56-932.jpg', '2016-12-30-11-35-46-760.jpg', '20161223_143432.jpg', '2016-12-30-11-36-17-134.jpg', '2016-12-30-11-36-52-841.jpg', '2017-01-06-13-45-01-752.jpg', '2017-01-06-13-44-01-462.jpg', '2017-01-06-13-42-24-365.jpg', '2017-01-06-13-41-57-422.jpg', '2017-01-06-14-31-54-857.jpg', '2017-01-06-14-29-12-239.jpg', '2017-01-14-13-49-05-501.jpg', '2017-01-14-13-47-27-365.jpg', '20161223_143435.jpg', 'G', 'Untitled folder', 'Yesterday', 'Eid 2k17', 'anisa', 'Chandpur', 'sylhet', 'gps', 'Saint Martin', 'pic', 'Anisa birthday', 'Classroom', 'Database', '4th semester', 'Magoosh 1000 Bangla Meaning Part 1.pdf · version 1.pdf', 'defense file', 'cv of Md. Saidul Islam.pdf', 'Md. Saidul Islam.pdf', 'Colab Notebooks', 'Islam_Saidul_CV.pdf', 'saidul (1).jpg', 'Islam_Saidul_Transcript.pdf', 'passport.pdf', 'saidul.jpg', 'Bandarban', 'VID_20210226_103259.mp4', 'VID_20210226_103231.mp4', 'VID_20210226_163207.mp4', 'VID_20210225_233642.mp4', 'VID_20210225_233703.mp4', '2.jpg', 'S.S.C.jpg', 'H.S.C.jpg', 'Home Contractor - Pest Control ( HCPC2DUSM ).mp4', '1.txt', '1.PNG', 'Assurance Digest BCS Preliminary [BDNiyog.Com].pdf', 'Assigment-01.pdf', 'Business Flyer.jpg', 'BusinessPoster.jpg', 'Autumn Sale.jpg', 'Corporate Flyer 03.jpg', 'Corporate Flyer 02.jpg', 'corporateBrochure.jpg', 'FoodFlyerRest.jpg', 'Fashion Promo Flyer.jpg', 'furniture.jpg', 'Furniture Promo Ad.jpg', 'IceandFireBookCover.jpg', 'LalSalu Cover Design.jpg', 'GrilledSkewes.jpg', 'MyTravelFlyer.jpg', 'RealEstate.jpg', 'multifoodFlyer.jpg', 'singleFood.jpg', 'variousfoodflyer.jpg', 'Flyer With Mockup', 'LOGO', 'Business Card', 'BusinessMockup', 'CV1.jpg', 'password.docx', 'CV.jpg', 'cv_saidul.pdf', 'Norway.xlsx', 'Document', '4.jpg', 'Roberto_Noel_s_Resume_2019.pdf', '9th-convocation-ins.pdf', 'EMS.gsheet', 'Convocation', 'Visa Documents', 'linear-algebra-and-its-applications-6-global-edition-1292351217-9781292351216 (2).pdf', 'linear-algebra-and-its-applications-6-global-edition-1292351217-9781292351216 (1).pdf', 'linear-algebra-and-its-applications-6-global-edition-1292351217-9781292351216.pdf', 'rf1209e-2022_2.pdf', 'Discrete Assignment ', 'Copy of 2016-12-30-11-24-30-480.jpg', 'PCC-.jpg', 'PCC.jpg', 'Presentation2.pptx', 'Untitled document.gdoc', 'ISS_0000_ARSRAPPORT.PDF', 'WhatsApp Image 2024-01-17 at 20.36.44.jpeg', 'merged_data.csv', 'cleaned_merged_data.csv', 'PXL_20240410_131154028.jpg', 'PXL_20240410_131435534.jpg', 'PXL_20240410_125626368.jpg', 'PXL_20240410_074606224.jpg', 'PXL_20240410_125607069.jpg', 'PXL_20240410_131424071.jpg', 'PXL_20240410_131458474.jpg', 'PXL_20240410_131405265.jpg', 'PXL_20240410_131448528.jpg', 'PXL_20240410_125545110.jpg', 'PXL_20240410_131202597.jpg', 'PXL_20240410_074602159.jpg', 'PXL_20240410_125549072.jpg', 'PXL_20240410_125553884.jpg', 'PXL_20240410_131157182.jpg', 'PXL_20240410_125616908.jpg', 'PXL_20240410_131455917.jpg', 'PXL_20240410_074616208.jpg', 'PXL_20240410_074618381.jpg', 'PXL_20240410_131429455.jpg', 'PXL_20240410_074601483.jpg', 'PXL_20240410_074617753.jpg', 'PXL_20240410_074617111.jpg', 'PXL_20240410_074604301.jpg', 'PXL_20240410_074602994.jpg', 'PXL_20240410_074618840.jpg', 'PXL_20240410_074609788.jpg', 'PXL_20240410_074611217.jpg', 'PXL_20240410_074618381~2.jpg', 'PXL_20240410_074619116.jpg', 'PXL_20240410_074614877.jpg', 'DATASET']\n",
            "\n",
            "Listing Shared with me:\n",
            "\n",
            "Error accessing 'Shared with me': [Errno 2] No such file or directory: '/content/drive/Shared with me'\n"
          ]
        }
      ],
      "source": [
        "from google.colab import drive\n",
        "drive.mount('/content/drive')\n",
        "\n",
        "import os\n",
        "\n",
        "print(\"Listing My Drive:\")\n",
        "drive_path = '/content/drive/My Drive'\n",
        "print(os.listdir(drive_path))\n",
        "\n",
        "try:\n",
        "    shared_path = '/content/drive/Shared with me'\n",
        "    print(\"\\nListing Shared with me:\")\n",
        "    print(os.listdir(shared_path))\n",
        "except Exception as e:\n",
        "    print(\"\\nError accessing 'Shared with me':\", e)\n"
      ]
    },
    {
      "cell_type": "code",
      "source": [
        "import pandas as pd\n",
        "\n",
        "# Set the path to the dataset folder\n",
        "dataset_path = '/content/drive/My Drive/DATASET'\n",
        "\n",
        "# Reading each CSV file and displaying the first few rows\n",
        "data_final_cleaned = pd.read_csv(f'{dataset_path}/data_final_cleaned.csv')\n",
        "print(\"\\nHead of data_final_cleaned.csv:\")\n",
        "print(data_final_cleaned.head())\n",
        "\n",
        "spotify_dataset = pd.read_csv(f'{dataset_path}/spotify_dataset.csv', on_bad_lines='skip')\n",
        "print(\"\\nHead of spotify_dataset.csv:\")\n",
        "print(spotify_dataset.head())"
      ],
      "metadata": {
        "colab": {
          "base_uri": "https://localhost:8080/"
        },
        "id": "-wLj2xHMp5mo",
        "outputId": "146db268-149d-4c86-ceec-5a300b7e05ad"
      },
      "execution_count": 2,
      "outputs": [
        {
          "output_type": "stream",
          "name": "stdout",
          "text": [
            "\n",
            "Head of data_final_cleaned.csv:\n",
            "   valence  year  acousticness  \\\n",
            "0   0.0594  1921         0.982   \n",
            "1   0.9630  1921         0.732   \n",
            "2   0.0394  1921         0.961   \n",
            "3   0.1650  1921         0.967   \n",
            "4   0.2530  1921         0.957   \n",
            "\n",
            "                                             artists  danceability  \\\n",
            "0  ['Sergei Rachmaninoff', 'James Levine', 'Berli...         0.279   \n",
            "1                                     ['Dennis Day']         0.819   \n",
            "2  ['KHP Kridhamardawa Karaton Ngayogyakarta Hadi...         0.328   \n",
            "3                                   ['Frank Parker']         0.275   \n",
            "4                                     ['Phil Regan']         0.418   \n",
            "\n",
            "   duration_ms  energy  explicit                      id  instrumentalness  \\\n",
            "0       831667   0.211         0  4BJqT0PrAfrxzMOxytFOIz          0.878000   \n",
            "1       180533   0.341         0  7xPhfUan2yNtyFG0cUWkt8          0.000000   \n",
            "2       500062   0.166         0  1o6I8BglA6ylDMrIELygv1          0.913000   \n",
            "3       210000   0.309         0  3ftBPsC5vPBKxYSee08FDH          0.000028   \n",
            "4       166693   0.193         0  4d6HGyGT8e121BsdKmw9v6          0.000002   \n",
            "\n",
            "   key  liveness  loudness  mode  \\\n",
            "0   10     0.665   -20.096     1   \n",
            "1    7     0.160   -12.441     1   \n",
            "2    3     0.101   -14.850     1   \n",
            "3    5     0.381    -9.316     1   \n",
            "4    3     0.229   -10.096     1   \n",
            "\n",
            "                                                name  popularity release_date  \\\n",
            "0  Piano Concerto No. 3 in D Minor, Op. 30: III. ...           4         1921   \n",
            "1                            Clancy Lowered the Boom           5         1921   \n",
            "2                                          Gati Bali           5         1921   \n",
            "3                                          Danny Boy           3         1921   \n",
            "4                        When Irish Eyes Are Smiling           2         1921   \n",
            "\n",
            "   speechiness    tempo  cluster  \n",
            "0       0.0366   80.954        4  \n",
            "1       0.4150   60.936        1  \n",
            "2       0.0339  110.339        4  \n",
            "3       0.0354  100.109        3  \n",
            "4       0.0380  101.665        3  \n",
            "\n",
            "Head of spotify_dataset.csv:\n",
            "                            user_id                      \"artistname\"  \\\n",
            "0  9cc0cfd4d7d7885102480dd99e7a90d6                    Elvis Costello   \n",
            "1  9cc0cfd4d7d7885102480dd99e7a90d6  Elvis Costello & The Attractions   \n",
            "2  9cc0cfd4d7d7885102480dd99e7a90d6                      Tiffany Page   \n",
            "3  9cc0cfd4d7d7885102480dd99e7a90d6  Elvis Costello & The Attractions   \n",
            "4  9cc0cfd4d7d7885102480dd99e7a90d6                    Elvis Costello   \n",
            "\n",
            "                                         \"trackname\"  \"playlistname\"  \n",
            "0               (The Angels Wanna Wear My) Red Shoes  HARD ROCK 2010  \n",
            "1  (What's So Funny 'Bout) Peace, Love And Unders...  HARD ROCK 2010  \n",
            "2                                   7 Years Too Late  HARD ROCK 2010  \n",
            "3                              Accidents Will Happen  HARD ROCK 2010  \n",
            "4                                             Alison  HARD ROCK 2010  \n"
          ]
        }
      ]
    },
    {
      "cell_type": "code",
      "source": [
        "# Remove leading/trailing spaces and quotes from column names\n",
        "spotify_dataset.columns = spotify_dataset.columns.str.strip().str.replace('\"', '')\n",
        "\n",
        "# Now print the cleaned column names to verify\n",
        "print(spotify_dataset.columns)"
      ],
      "metadata": {
        "colab": {
          "base_uri": "https://localhost:8080/"
        },
        "id": "ddvCJsgUZo2t",
        "outputId": "ddf32645-2f81-434b-c07b-8041f2fd78a4"
      },
      "execution_count": 3,
      "outputs": [
        {
          "output_type": "stream",
          "name": "stdout",
          "text": [
            "Index(['user_id', 'artistname', 'trackname', 'playlistname'], dtype='object')\n"
          ]
        }
      ]
    },
    {
      "cell_type": "code",
      "source": [
        "# Normalize song names in both datasets\n",
        "spotify_dataset['trackname_normalized'] = spotify_dataset['trackname'].str.lower().str.strip()\n",
        "data_final_cleaned['name_normalized'] = data_final_cleaned['name'].str.lower().str.strip()\n",
        "\n",
        "# Merge the datasets on the normalized song names\n",
        "merged_data = pd.merge(spotify_dataset, data_final_cleaned, left_on='trackname_normalized', right_on='name_normalized', how='inner')\n",
        "\n",
        "# Drop the extra normalization columns if you no longer need them\n",
        "merged_data.drop(columns=['trackname_normalized', 'name_normalized'], inplace=True)\n",
        "\n",
        "# Display the total number of matched rows and the first few entries to inspect the merge\n",
        "print(f\"Total matched rows based on song names: {merged_data.shape[0]}\")\n",
        "print(merged_data[['user_id', 'artistname', 'trackname', 'name', 'cluster']].sample(10))"
      ],
      "metadata": {
        "colab": {
          "base_uri": "https://localhost:8080/"
        },
        "id": "jzDeQiY3qmmU",
        "outputId": "8d6db1ed-6e79-49a9-a672-37900401a722"
      },
      "execution_count": 4,
      "outputs": [
        {
          "output_type": "stream",
          "name": "stdout",
          "text": [
            "Total matched rows based on song names: 18210567\n",
            "                                   user_id           artistname  \\\n",
            "11870252  497795e8fe69c901f460ed05c9d5dfe0         The Surfaris   \n",
            "7636553   3592acf05f862647b7c1c3b2e9ccb153        Assemblage 23   \n",
            "13653243  4f6c8dafc6c593080a4f90f74ed7f75d            De Palmas   \n",
            "16402760  e31b8321b5032c4ad5e667b1bb28556a                Sjaak   \n",
            "10187152  932d18ffe570c999355cd5d7627ed375          Miles Davis   \n",
            "8888468   20d25a6713ad534fcb3aa2c6ce985c25           Johnnyswim   \n",
            "5554582   8c6e455a17547c90e7db4e9b3fc77528      Raheem DeVaughn   \n",
            "13267544  92efe45c28b693c4910ea94a1cc03982  Swedish House Mafia   \n",
            "8142075   bb35d8debe6c3b6e74029763cf82d1b2              Estelle   \n",
            "13189733  957f41183dca65713f3fddc456f10d0c         Billy Squier   \n",
            "\n",
            "                                       trackname  \\\n",
            "11870252                                Wipe Out   \n",
            "7636553                                    Sorry   \n",
            "13653243                          Black or white   \n",
            "16402760                                 Alcohol   \n",
            "10187152               I Fall In Love Too Easily   \n",
            "8888468   Have Yourself a Merry Little Christmas   \n",
            "5554582                                   Heaven   \n",
            "13267544                          Save The World   \n",
            "8142075                          Time After Time   \n",
            "13189733                             In The Dark   \n",
            "\n",
            "                                            name  cluster  \n",
            "11870252                                Wipe Out        4  \n",
            "7636553                                    Sorry        3  \n",
            "13653243                          Black or White        1  \n",
            "16402760                                 Alcohol        0  \n",
            "10187152               I Fall In Love Too Easily        3  \n",
            "8888468   Have Yourself A Merry Little Christmas        3  \n",
            "5554582                                   Heaven        0  \n",
            "13267544                          Save The World        0  \n",
            "8142075                          Time After Time        3  \n",
            "13189733                             In The Dark        1  \n"
          ]
        }
      ]
    },
    {
      "cell_type": "code",
      "source": [
        "# Select only the necessary columns\n",
        "necessary_columns = ['user_id', 'artistname', 'trackname', 'cluster']\n",
        "smaller_merged_data = merged_data[necessary_columns]\n",
        "\n",
        "# Display the total number of matched rows after pruning\n",
        "print(f\"Total rows after pruning: {smaller_merged_data.shape[0]}\")\n",
        "\n",
        "# Display a random sample of 10 rows to inspect the smaller merged data\n",
        "print(smaller_merged_data.sample(10))\n",
        "\n",
        "# save the smaller merged dataset if needed\n",
        "smaller_merged_data.to_csv('/content/drive/My Drive/DATASET/smaller_merged_data.csv', index=False)\n",
        "\n"
      ],
      "metadata": {
        "colab": {
          "base_uri": "https://localhost:8080/"
        },
        "id": "mxKOocwAjGZb",
        "outputId": "09d9e4fa-e27a-4a3f-a548-765ac2ba8851"
      },
      "execution_count": 5,
      "outputs": [
        {
          "output_type": "stream",
          "name": "stdout",
          "text": [
            "Total rows after pruning: 18210567\n",
            "                                   user_id         artistname  \\\n",
            "17903950  fdc9aa9713061f5bb4ce998d68c958fd      Elvis Presley   \n",
            "7515641   ba504f8917ef663c24f3fde34095e037       Los Dynamite   \n",
            "17894451  a0b9a0397185686b0f80fa481290595b             Bonobo   \n",
            "5368811   29320fd2d36575b40d21b623adcf12b2         Kanye West   \n",
            "17300654  cc83579aa6ecfa7d34e0cdd8a63cdddb     Gloria Estefan   \n",
            "10727690  1c426e24fa0b506b4402020ca07e2d9b  Empire Of The Sun   \n",
            "5251478   1762d0cd500140d66708a2e3ed42d354               Metz   \n",
            "13912132  44d2fabeb29042d38066c8be00ce61f3        Dean Martin   \n",
            "15295810  a0c22c2695a76d24c78145d55e44b387         John Mayer   \n",
            "2789278   1a38aceaf7b79d8792bdbe0271334537             Venice   \n",
            "\n",
            "                                       trackname  cluster  \n",
            "17903950                             Blue Hawaii        3  \n",
            "7515641                                    Smile        3  \n",
            "17894451                                The Plug        4  \n",
            "5368811                              Gold Digger        1  \n",
            "17300654                                     Oye        0  \n",
            "10727690                      Walking On A Dream        1  \n",
            "5251478                                  Get Off        0  \n",
            "13912132  Let It Snow! Let It Snow! Let It Snow!        4  \n",
            "15295810                              Crossroads        3  \n",
            "2789278                                Landslide        0  \n"
          ]
        }
      ]
    },
    {
      "cell_type": "markdown",
      "source": [
        "it groups smaller_merged_data by user_id and trackname, creating a size of interactions for each combination.\n",
        "It transforms the resulting DataFrame into a binary interaction matrix using unstack(), which pivots the trackname to columns, and user_id to rows.\n",
        "It applies applymap() with a lambda function to turn counts into a binary interaction indicator.\n",
        "It saves the interaction matrix as a CSV file to your specified Google Drive path.\n",
        "It prints the shape of the interaction matrix, which gives you the dimensions (number of users by number of songs).\n",
        "It prints a subset of the matrix for inspection."
      ],
      "metadata": {
        "id": "Buin7JhwvvaH"
      }
    },
    {
      "cell_type": "code",
      "source": [
        "import pandas as pd\n",
        "\n",
        "# Load the dataset\n",
        "smaller_merged_data = pd.read_csv('/content/drive/My Drive/DATASET/smaller_merged_data.csv')\n",
        "\n",
        "# Strip spaces, normalize case, and handle missing values in 'trackname' and 'artistname'\n",
        "smaller_merged_data.dropna(subset=['artistname', 'trackname'], inplace=True)\n",
        "smaller_merged_data['trackname'] = smaller_merged_data['trackname'].str.strip().str.lower()\n",
        "smaller_merged_data['artistname'] = smaller_merged_data['artistname'].str.strip().str.lower()\n",
        "\n",
        "# Create mappings from song and artist names to categorical indices\n",
        "song_lookup = {name: idx for idx, name in enumerate(pd.Categorical(smaller_merged_data['trackname']).categories)}\n",
        "artist_lookup = {name: idx for idx, name in enumerate(pd.Categorical(smaller_merged_data['artistname']).categories)}\n"
      ],
      "metadata": {
        "id": "yoV7VamZHGBZ"
      },
      "execution_count": 19,
      "outputs": []
    },
    {
      "cell_type": "code",
      "source": [
        "from scipy.sparse import csr_matrix\n",
        "\n",
        "# Convert user IDs to categorical codes\n",
        "smaller_merged_data['user_id'] = pd.Categorical(smaller_merged_data['user_id']).codes\n",
        "\n",
        "# Create a sparse matrix for user-track interactions using 'cluster' as weights\n",
        "interaction_matrix = csr_matrix(\n",
        "    (smaller_merged_data['cluster'], (smaller_merged_data['user_id'], pd.Categorical(smaller_merged_data['trackname']).codes)),\n",
        "    shape=(smaller_merged_data['user_id'].max() + 1, pd.Categorical(smaller_merged_data['trackname']).categories.size)\n",
        ")\n"
      ],
      "metadata": {
        "id": "YI4BvDl9I1Z6"
      },
      "execution_count": 20,
      "outputs": []
    },
    {
      "cell_type": "code",
      "source": [
        "print(\"Interaction Matrix Shape:\", interaction_matrix.shape)  # Should be (number_of_users, number_of_songs)\n"
      ],
      "metadata": {
        "colab": {
          "base_uri": "https://localhost:8080/"
        },
        "id": "C91CuO7XQ_uj",
        "outputId": "08eab873-13b2-49f6-b5ee-63c2aed3009b"
      },
      "execution_count": 26,
      "outputs": [
        {
          "output_type": "stream",
          "name": "stdout",
          "text": [
            "Interaction Matrix Shape: (15598, 73319)\n"
          ]
        }
      ]
    },
    {
      "cell_type": "code",
      "source": [
        "import pandas as pd\n",
        "\n",
        "# Load the dataset\n",
        "smaller_merged_data = pd.read_csv('/content/drive/My Drive/DATASET/smaller_merged_data.csv')\n",
        "\n",
        "# Display unique song names\n",
        "unique_songs = smaller_merged_data['trackname'].dropna().unique()\n",
        "print(\"Unique Song Names:\", unique_songs[:50])  # Print first 50 unique song names\n",
        "\n",
        "# Display unique artist names\n",
        "unique_artists = smaller_merged_data['artistname'].dropna().unique()\n",
        "print(\"Unique Artist Names:\", unique_artists[:50])  # Print first 50 unique artist names\n"
      ],
      "metadata": {
        "colab": {
          "base_uri": "https://localhost:8080/"
        },
        "id": "efQs5zoqR2oO",
        "outputId": "3fba2737-c5c9-4fbb-a96d-164c2b20d29a"
      },
      "execution_count": 28,
      "outputs": [
        {
          "output_type": "stream",
          "name": "stdout",
          "text": [
            "Unique Song Names: ['(The Angels Wanna Wear My) Red Shoes'\n",
            " '(the Angels Wanna Wear My) Red Shoes'\n",
            " \"(What's So Funny 'Bout) Peace, Love And Understanding\"\n",
            " \"(What's So Funny 'Bout) Peace, Love and Understanding\"\n",
            " 'Accidents Will Happen' 'Accidents will Happen' 'Alison'\n",
            " 'Band On The Run' 'Band on the Run' 'Band On the Run' 'Beautiful'\n",
            " 'beautiful' 'BEAUTIFUL' 'Dance Tonight' \"Don't Dream It's Over\"\n",
            " \"Don't dream it's over\" 'Everywhere I Go' 'Everywhere I go'\n",
            " 'Fall At Your Feet' 'Fall at your feet' 'Fall at Your Feet'\n",
            " 'Four Seasons In One Day' 'Four Seasons in One Day' 'Helplessly Hoping'\n",
            " 'Here We Go' 'Here we go' 'In The City' 'In the City' 'In the city'\n",
            " 'in the city' 'Lie To Me' 'lie to me' 'Lie to Me' 'Live And Let Die'\n",
            " 'Live and Let Die' 'live and let die' 'Live and let Die' 'Mastermind'\n",
            " \"Oliver's Army\" 'Only You' 'Only you' 'ONLY YOU' 'Out Of My Mind'\n",
            " 'Out of My Mind' 'Pictures' 'PICTURES' 'Southern Cross' 'Tried So Hard'\n",
            " 'Tried so Hard' 'Weather With You']\n",
            "Unique Artist Names: ['Elvis Costello' 'Hem' 'Elvis Costello & The Attractions'\n",
            " 'Elvis Costello and the Attractions' 'Sheryl Crow' 'Nick Lowe'\n",
            " 'Costello, Elvis' 'David Broza' 'Elvis Costello & the Attractions'\n",
            " 'Curtis Stiger' 'Lucy Kaplansky' 'Frank Sinatra' 'The Von Bondies'\n",
            " 'Tony Perkins' 'Nick Cave & The Bad Seeds' 'Minor Majority' 'Slowdive'\n",
            " 'Whitmore' 'Pixies' 'Everything But The Girl' 'Babybird' 'Eve 6'\n",
            " 'Marcelo Rezende' 'Yogi Lang' 'Jeremy Fisher' 'Clem Snide'\n",
            " 'Lydia Loveless' 'Immigrant Union' 'Billy the Kid & The Southside Boys'\n",
            " 'Linda Ronstadt' 'Dulces' 'John Pizzarelli' 'Gatonieve' 'Damon Fowler'\n",
            " 'Butch Walker' 'Big French' 'Neil Halstead' 'Kissy Sell Out'\n",
            " 'Vic Chesnutt, Jack Logan, and Mr. and Mrs. Keneipp' 'Paul McCartney'\n",
            " 'Wings' 'Vitamin String Quartet' 'Foo Fighters' 'Paul McCartney & Wings'\n",
            " \"Umphrey's McGee\" 'Perculators' 'Will Hoge' 'The Tribute Co.'\n",
            " 'The Langley Schools Music Project' 'Richie Havens']\n"
          ]
        }
      ]
    },
    {
      "cell_type": "code",
      "source": [
        "from sklearn.metrics.pairwise import cosine_similarity\n",
        "import numpy as np\n",
        "\n",
        "def recommend_songs(song_name, interaction_matrix, song_lookup, top_n=5):\n",
        "    song_name = song_name.strip().lower()\n",
        "    if song_name not in song_lookup:\n",
        "        return \"Song not found.\"\n",
        "\n",
        "    song_index = song_lookup[song_name]\n",
        "    # Extract the song features, ensuring it remains a 1D array for comparison\n",
        "    song_features = interaction_matrix[:, song_index].toarray().flatten()\n",
        "\n",
        "    # Calculate similarities between this song and all songs\n",
        "    # Transpose interaction_matrix to make songs as rows for comparison\n",
        "    similarities = cosine_similarity(song_features.reshape(1, -1), interaction_matrix.T).flatten()\n",
        "\n",
        "    # Find indices of top N similar songs (excluding the song itself)\n",
        "    top_indices = np.argsort(similarities)[::-1][1:top_n+1]\n",
        "    recommended_songs = [song for song, index in song_lookup.items() if index in top_indices]\n",
        "    return recommended_songs\n",
        "\n",
        "def recommend_artists(artist_name, interaction_matrix, artist_lookup, top_n=5):\n",
        "    artist_name = artist_name.strip().lower()\n",
        "    if artist_name not in artist_lookup:\n",
        "        return \"Artist not found.\"\n",
        "\n",
        "    artist_index = artist_lookup[artist_name]\n",
        "    # Get indices of all tracks by this artist\n",
        "    artist_tracks_indices = [idx for idx, artist in enumerate(smaller_merged_data['artistname']) if artist == artist_index]\n",
        "\n",
        "    # Sum across these indices to create an artist profile, ensure it is a 1D array for comparison\n",
        "    artist_profile = interaction_matrix[:, artist_tracks_indices].sum(axis=1).toarray().flatten()\n",
        "\n",
        "    # Calculate similarities between this artist profile and all users\n",
        "    similarities = cosine_similarity(artist_profile.reshape(1, -1), interaction_matrix).flatten()\n",
        "\n",
        "    # Find indices of top N similar artists (excluding the artist itself)\n",
        "    top_indices = np.argsort(similarities)[::-1][1:top_n+1]\n",
        "    recommended_artists = [artist for artist, index in artist_lookup.items() if index in top_indices]\n",
        "    return recommended_artists\n",
        "\n",
        "# Test the functions with valid inputs\n",
        "test_song = 'lose yourself'  # Make sure the input is correctly formatted and exists\n",
        "test_artist = 'hem'  # Same here\n",
        "\n",
        "print(\"Recommended Songs based on song name:\", recommend_songs(test_song, interaction_matrix, song_lookup))\n",
        "print(\"Recommended Artists based on artist name:\", recommend_artists(test_artist, interaction_matrix, artist_lookup))\n"
      ],
      "metadata": {
        "colab": {
          "base_uri": "https://localhost:8080/",
          "height": 422
        },
        "id": "GLUX9olpN5Et",
        "outputId": "6c5448d9-ff41-435a-e086-b3296f0837a0"
      },
      "execution_count": 35,
      "outputs": [
        {
          "output_type": "stream",
          "name": "stdout",
          "text": [
            "Recommended Songs based on song name: ['head games', 'head hunter', 'head i win, tails you loose', 'head in the ceiling fan', 'head on']\n"
          ]
        },
        {
          "output_type": "error",
          "ename": "AttributeError",
          "evalue": "'matrix' object has no attribute 'toarray'",
          "traceback": [
            "\u001b[0;31m---------------------------------------------------------------------------\u001b[0m",
            "\u001b[0;31mAttributeError\u001b[0m                            Traceback (most recent call last)",
            "\u001b[0;32m<ipython-input-35-937fc31e1f98>\u001b[0m in \u001b[0;36m<cell line: 47>\u001b[0;34m()\u001b[0m\n\u001b[1;32m     45\u001b[0m \u001b[0;34m\u001b[0m\u001b[0m\n\u001b[1;32m     46\u001b[0m \u001b[0mprint\u001b[0m\u001b[0;34m(\u001b[0m\u001b[0;34m\"Recommended Songs based on song name:\"\u001b[0m\u001b[0;34m,\u001b[0m \u001b[0mrecommend_songs\u001b[0m\u001b[0;34m(\u001b[0m\u001b[0mtest_song\u001b[0m\u001b[0;34m,\u001b[0m \u001b[0minteraction_matrix\u001b[0m\u001b[0;34m,\u001b[0m \u001b[0msong_lookup\u001b[0m\u001b[0;34m)\u001b[0m\u001b[0;34m)\u001b[0m\u001b[0;34m\u001b[0m\u001b[0;34m\u001b[0m\u001b[0m\n\u001b[0;32m---> 47\u001b[0;31m \u001b[0mprint\u001b[0m\u001b[0;34m(\u001b[0m\u001b[0;34m\"Recommended Artists based on artist name:\"\u001b[0m\u001b[0;34m,\u001b[0m \u001b[0mrecommend_artists\u001b[0m\u001b[0;34m(\u001b[0m\u001b[0mtest_artist\u001b[0m\u001b[0;34m,\u001b[0m \u001b[0minteraction_matrix\u001b[0m\u001b[0;34m,\u001b[0m \u001b[0martist_lookup\u001b[0m\u001b[0;34m)\u001b[0m\u001b[0;34m)\u001b[0m\u001b[0;34m\u001b[0m\u001b[0;34m\u001b[0m\u001b[0m\n\u001b[0m",
            "\u001b[0;32m<ipython-input-35-937fc31e1f98>\u001b[0m in \u001b[0;36mrecommend_artists\u001b[0;34m(artist_name, interaction_matrix, artist_lookup, top_n)\u001b[0m\n\u001b[1;32m     30\u001b[0m \u001b[0;34m\u001b[0m\u001b[0m\n\u001b[1;32m     31\u001b[0m     \u001b[0;31m# Sum across these indices to create an artist profile, ensure it is a 1D array for comparison\u001b[0m\u001b[0;34m\u001b[0m\u001b[0;34m\u001b[0m\u001b[0m\n\u001b[0;32m---> 32\u001b[0;31m     \u001b[0martist_profile\u001b[0m \u001b[0;34m=\u001b[0m \u001b[0minteraction_matrix\u001b[0m\u001b[0;34m[\u001b[0m\u001b[0;34m:\u001b[0m\u001b[0;34m,\u001b[0m \u001b[0martist_tracks_indices\u001b[0m\u001b[0;34m]\u001b[0m\u001b[0;34m.\u001b[0m\u001b[0msum\u001b[0m\u001b[0;34m(\u001b[0m\u001b[0maxis\u001b[0m\u001b[0;34m=\u001b[0m\u001b[0;36m1\u001b[0m\u001b[0;34m)\u001b[0m\u001b[0;34m.\u001b[0m\u001b[0mtoarray\u001b[0m\u001b[0;34m(\u001b[0m\u001b[0;34m)\u001b[0m\u001b[0;34m.\u001b[0m\u001b[0mflatten\u001b[0m\u001b[0;34m(\u001b[0m\u001b[0;34m)\u001b[0m\u001b[0;34m\u001b[0m\u001b[0;34m\u001b[0m\u001b[0m\n\u001b[0m\u001b[1;32m     33\u001b[0m \u001b[0;34m\u001b[0m\u001b[0m\n\u001b[1;32m     34\u001b[0m     \u001b[0;31m# Calculate similarities between this artist profile and all users\u001b[0m\u001b[0;34m\u001b[0m\u001b[0;34m\u001b[0m\u001b[0m\n",
            "\u001b[0;31mAttributeError\u001b[0m: 'matrix' object has no attribute 'toarray'"
          ]
        }
      ]
    },
    {
      "cell_type": "code",
      "source": [
        "# Define test cases using the actual song and artist names\n",
        "test_song = 'rise'  # Replace with an actual song name from your dataset\n",
        "test_artist = 'eminem'  # Replace with an actual artist name from your dataset\n",
        "\n",
        "print(\"Recommended Songs based on song name:\", recommend_songs(test_song, interaction_matrix, song_lookup))\n",
        "print(\"Recommended Artists based on artist name:\", recommend_artists(test_artist, interaction_matrix, artist_lookup))\n"
      ],
      "metadata": {
        "colab": {
          "base_uri": "https://localhost:8080/",
          "height": 408
        },
        "id": "Q1l2iaB2OdrT",
        "outputId": "8b3f3ced-0f2f-423c-80a1-d6483f1d6acb"
      },
      "execution_count": 25,
      "outputs": [
        {
          "output_type": "error",
          "ename": "ValueError",
          "evalue": "Incompatible dimension for X and Y matrices: X.shape[1] == 15598 while Y.shape[1] == 73319",
          "traceback": [
            "\u001b[0;31m---------------------------------------------------------------------------\u001b[0m",
            "\u001b[0;31mValueError\u001b[0m                                Traceback (most recent call last)",
            "\u001b[0;32m<ipython-input-25-1234ec99ce19>\u001b[0m in \u001b[0;36m<cell line: 5>\u001b[0;34m()\u001b[0m\n\u001b[1;32m      3\u001b[0m \u001b[0mtest_artist\u001b[0m \u001b[0;34m=\u001b[0m \u001b[0;34m'eminem'\u001b[0m  \u001b[0;31m# Replace with an actual artist name from your dataset\u001b[0m\u001b[0;34m\u001b[0m\u001b[0;34m\u001b[0m\u001b[0m\n\u001b[1;32m      4\u001b[0m \u001b[0;34m\u001b[0m\u001b[0m\n\u001b[0;32m----> 5\u001b[0;31m \u001b[0mprint\u001b[0m\u001b[0;34m(\u001b[0m\u001b[0;34m\"Recommended Songs based on song name:\"\u001b[0m\u001b[0;34m,\u001b[0m \u001b[0mrecommend_songs\u001b[0m\u001b[0;34m(\u001b[0m\u001b[0mtest_song\u001b[0m\u001b[0;34m,\u001b[0m \u001b[0minteraction_matrix\u001b[0m\u001b[0;34m,\u001b[0m \u001b[0msong_lookup\u001b[0m\u001b[0;34m)\u001b[0m\u001b[0;34m)\u001b[0m\u001b[0;34m\u001b[0m\u001b[0;34m\u001b[0m\u001b[0m\n\u001b[0m\u001b[1;32m      6\u001b[0m \u001b[0mprint\u001b[0m\u001b[0;34m(\u001b[0m\u001b[0;34m\"Recommended Artists based on artist name:\"\u001b[0m\u001b[0;34m,\u001b[0m \u001b[0mrecommend_artists\u001b[0m\u001b[0;34m(\u001b[0m\u001b[0mtest_artist\u001b[0m\u001b[0;34m,\u001b[0m \u001b[0minteraction_matrix\u001b[0m\u001b[0;34m,\u001b[0m \u001b[0martist_lookup\u001b[0m\u001b[0;34m)\u001b[0m\u001b[0;34m)\u001b[0m\u001b[0;34m\u001b[0m\u001b[0;34m\u001b[0m\u001b[0m\n",
            "\u001b[0;32m<ipython-input-23-8759846eb0fe>\u001b[0m in \u001b[0;36mrecommend_songs\u001b[0;34m(song_name, interaction_matrix, song_lookup, top_n)\u001b[0m\n\u001b[1;32m     13\u001b[0m     \u001b[0;31m# Ensure song_features is two-dimensional and aligns with interaction_matrix dimensions\u001b[0m\u001b[0;34m\u001b[0m\u001b[0;34m\u001b[0m\u001b[0m\n\u001b[1;32m     14\u001b[0m     \u001b[0msong_features\u001b[0m \u001b[0;34m=\u001b[0m \u001b[0minteraction_matrix\u001b[0m\u001b[0;34m[\u001b[0m\u001b[0;34m:\u001b[0m\u001b[0;34m,\u001b[0m \u001b[0msong_index\u001b[0m\u001b[0;34m]\u001b[0m\u001b[0;34m.\u001b[0m\u001b[0mtoarray\u001b[0m\u001b[0;34m(\u001b[0m\u001b[0;34m)\u001b[0m\u001b[0;34m.\u001b[0m\u001b[0mreshape\u001b[0m\u001b[0;34m(\u001b[0m\u001b[0;36m1\u001b[0m\u001b[0;34m,\u001b[0m \u001b[0;34m-\u001b[0m\u001b[0;36m1\u001b[0m\u001b[0;34m)\u001b[0m\u001b[0;34m\u001b[0m\u001b[0;34m\u001b[0m\u001b[0m\n\u001b[0;32m---> 15\u001b[0;31m     \u001b[0msimilarities\u001b[0m \u001b[0;34m=\u001b[0m \u001b[0mcosine_similarity\u001b[0m\u001b[0;34m(\u001b[0m\u001b[0msong_features\u001b[0m\u001b[0;34m,\u001b[0m \u001b[0minteraction_matrix\u001b[0m\u001b[0;34m)\u001b[0m\u001b[0;34m.\u001b[0m\u001b[0mflatten\u001b[0m\u001b[0;34m(\u001b[0m\u001b[0;34m)\u001b[0m\u001b[0;34m\u001b[0m\u001b[0;34m\u001b[0m\u001b[0m\n\u001b[0m\u001b[1;32m     16\u001b[0m \u001b[0;34m\u001b[0m\u001b[0m\n\u001b[1;32m     17\u001b[0m     \u001b[0mtop_indices\u001b[0m \u001b[0;34m=\u001b[0m \u001b[0mnp\u001b[0m\u001b[0;34m.\u001b[0m\u001b[0margsort\u001b[0m\u001b[0;34m(\u001b[0m\u001b[0msimilarities\u001b[0m\u001b[0;34m)\u001b[0m\u001b[0;34m[\u001b[0m\u001b[0;34m:\u001b[0m\u001b[0;34m:\u001b[0m\u001b[0;34m-\u001b[0m\u001b[0;36m1\u001b[0m\u001b[0;34m]\u001b[0m\u001b[0;34m[\u001b[0m\u001b[0;36m1\u001b[0m\u001b[0;34m:\u001b[0m\u001b[0mtop_n\u001b[0m\u001b[0;34m+\u001b[0m\u001b[0;36m1\u001b[0m\u001b[0;34m]\u001b[0m\u001b[0;34m\u001b[0m\u001b[0;34m\u001b[0m\u001b[0m\n",
            "\u001b[0;32m/usr/local/lib/python3.10/dist-packages/sklearn/metrics/pairwise.py\u001b[0m in \u001b[0;36mcosine_similarity\u001b[0;34m(X, Y, dense_output)\u001b[0m\n\u001b[1;32m   1391\u001b[0m     \u001b[0;31m# to avoid recursive import\u001b[0m\u001b[0;34m\u001b[0m\u001b[0;34m\u001b[0m\u001b[0m\n\u001b[1;32m   1392\u001b[0m \u001b[0;34m\u001b[0m\u001b[0m\n\u001b[0;32m-> 1393\u001b[0;31m     \u001b[0mX\u001b[0m\u001b[0;34m,\u001b[0m \u001b[0mY\u001b[0m \u001b[0;34m=\u001b[0m \u001b[0mcheck_pairwise_arrays\u001b[0m\u001b[0;34m(\u001b[0m\u001b[0mX\u001b[0m\u001b[0;34m,\u001b[0m \u001b[0mY\u001b[0m\u001b[0;34m)\u001b[0m\u001b[0;34m\u001b[0m\u001b[0;34m\u001b[0m\u001b[0m\n\u001b[0m\u001b[1;32m   1394\u001b[0m \u001b[0;34m\u001b[0m\u001b[0m\n\u001b[1;32m   1395\u001b[0m     \u001b[0mX_normalized\u001b[0m \u001b[0;34m=\u001b[0m \u001b[0mnormalize\u001b[0m\u001b[0;34m(\u001b[0m\u001b[0mX\u001b[0m\u001b[0;34m,\u001b[0m \u001b[0mcopy\u001b[0m\u001b[0;34m=\u001b[0m\u001b[0;32mTrue\u001b[0m\u001b[0;34m)\u001b[0m\u001b[0;34m\u001b[0m\u001b[0;34m\u001b[0m\u001b[0m\n",
            "\u001b[0;32m/usr/local/lib/python3.10/dist-packages/sklearn/metrics/pairwise.py\u001b[0m in \u001b[0;36mcheck_pairwise_arrays\u001b[0;34m(X, Y, precomputed, dtype, accept_sparse, force_all_finite, copy)\u001b[0m\n\u001b[1;32m    178\u001b[0m             )\n\u001b[1;32m    179\u001b[0m     \u001b[0;32melif\u001b[0m \u001b[0mX\u001b[0m\u001b[0;34m.\u001b[0m\u001b[0mshape\u001b[0m\u001b[0;34m[\u001b[0m\u001b[0;36m1\u001b[0m\u001b[0;34m]\u001b[0m \u001b[0;34m!=\u001b[0m \u001b[0mY\u001b[0m\u001b[0;34m.\u001b[0m\u001b[0mshape\u001b[0m\u001b[0;34m[\u001b[0m\u001b[0;36m1\u001b[0m\u001b[0;34m]\u001b[0m\u001b[0;34m:\u001b[0m\u001b[0;34m\u001b[0m\u001b[0;34m\u001b[0m\u001b[0m\n\u001b[0;32m--> 180\u001b[0;31m         raise ValueError(\n\u001b[0m\u001b[1;32m    181\u001b[0m             \u001b[0;34m\"Incompatible dimension for X and Y matrices: \"\u001b[0m\u001b[0;34m\u001b[0m\u001b[0;34m\u001b[0m\u001b[0m\n\u001b[1;32m    182\u001b[0m             \u001b[0;34m\"X.shape[1] == %d while Y.shape[1] == %d\"\u001b[0m \u001b[0;34m%\u001b[0m \u001b[0;34m(\u001b[0m\u001b[0mX\u001b[0m\u001b[0;34m.\u001b[0m\u001b[0mshape\u001b[0m\u001b[0;34m[\u001b[0m\u001b[0;36m1\u001b[0m\u001b[0;34m]\u001b[0m\u001b[0;34m,\u001b[0m \u001b[0mY\u001b[0m\u001b[0;34m.\u001b[0m\u001b[0mshape\u001b[0m\u001b[0;34m[\u001b[0m\u001b[0;36m1\u001b[0m\u001b[0;34m]\u001b[0m\u001b[0;34m)\u001b[0m\u001b[0;34m\u001b[0m\u001b[0;34m\u001b[0m\u001b[0m\n",
            "\u001b[0;31mValueError\u001b[0m: Incompatible dimension for X and Y matrices: X.shape[1] == 15598 while Y.shape[1] == 73319"
          ]
        }
      ]
    },
    {
      "cell_type": "code",
      "source": [
        "from sklearn.metrics.pairwise import cosine_similarity\n",
        "import numpy as np\n",
        "\n",
        "def recommend_songs(song_name, interaction_matrix, song_lookup, top_n=5):\n",
        "    song_name = song_name.strip().lower()\n",
        "    if song_name not in song_lookup:\n",
        "        return \"Song not found.\"\n",
        "\n",
        "    song_index = song_lookup[song_name]\n",
        "    song_features = interaction_matrix[:, song_index].T\n",
        "    similarities = cosine_similarity(song_features, interaction_matrix.T).flatten()\n",
        "\n",
        "    top_indices = np.argsort(similarities)[::-1][1:top_n+1]\n",
        "    recommended_song_names = [song for song, index in song_lookup.items() if index in top_indices]\n",
        "    return recommended_song_names\n",
        "\n",
        "def recommend_artists(artist_name, interaction_matrix, artist_lookup, track_to_artist, top_n=5):\n",
        "    artist_name = artist_name.strip().lower()\n",
        "    if artist_name not in artist_lookup:\n",
        "        return \"Artist not found.\"\n",
        "\n",
        "    artist_index = artist_lookup[artist_name]\n",
        "    artist_tracks_indices = [idx for idx, artist in enumerate(smaller_merged_data['artistname']) if artist == artist_index]\n",
        "    if not artist_tracks_indices:\n",
        "        return \"No tracks found for this artist.\"\n",
        "\n",
        "    artist_profile = interaction_matrix[:, artist_tracks_indices].sum(axis=1)\n",
        "    artist_profile = artist_profile.reshape(1, -1)  # Ensure proper dimensions for similarity calculation\n",
        "    similarities = cosine_similarity(artist_profile, interaction_matrix).flatten()\n",
        "\n",
        "    top_indices = np.argsort(similarities)[::-1][1:top_n+1]\n",
        "    recommended_artist_names = [artist for idx, artist in artist_lookup.items() if idx in top_indices]\n",
        "\n",
        "    return recommended_artist_names\n"
      ],
      "metadata": {
        "id": "zN_KIGzFJRio"
      },
      "execution_count": 16,
      "outputs": []
    },
    {
      "cell_type": "code",
      "source": [
        "# Define the mapping from track indices to artist indices\n",
        "track_to_artist = {track_idx: artist_lookup[artist] for track_idx, artist in enumerate(smaller_merged_data['artistname'])}\n",
        "\n",
        "# Test the functions\n",
        "test_song = 'rise'\n",
        "test_artist = 'eminem'\n",
        "print(recommend_songs(test_song, interaction_matrix, song_lookup))\n",
        "print(recommend_artists(test_artist, interaction_matrix, artist_lookup, track_to_artist))\n"
      ],
      "metadata": {
        "colab": {
          "base_uri": "https://localhost:8080/"
        },
        "id": "UF-evuUMOHBh",
        "outputId": "67bb384e-2cec-449a-cd6d-d84bc447dd66"
      },
      "execution_count": 17,
      "outputs": [
        {
          "output_type": "stream",
          "name": "stdout",
          "text": [
            "Song not found.\n",
            "Artist not found.\n"
          ]
        }
      ]
    },
    {
      "cell_type": "code",
      "source": [
        "from sklearn.metrics.pairwise import cosine_similarity\n",
        "import numpy as np\n",
        "\n",
        "def recommend_songs(song_name, interaction_matrix, song_lookup, top_n=5):\n",
        "    song_name = song_name.strip().lower()\n",
        "    if song_name not in song_lookup:\n",
        "        return \"Song not found.\"\n",
        "\n",
        "    song_index = song_lookup[song_name]\n",
        "    song_features = interaction_matrix[:, song_index].T\n",
        "    similarities = cosine_similarity(song_features, interaction_matrix.T).flatten()\n",
        "\n",
        "    top_indices = np.argsort(similarities)[::-1][1:top_n+1]\n",
        "    recommended_song_names = [song for song, index in song_lookup.items() if index in top_indices]\n",
        "    return recommended_song_names\n",
        "\n",
        "def recommend_artists(artist_name, interaction_matrix, artist_lookup, track_to_artist, top_n=5):\n",
        "    artist_name = artist_name.strip().lower()\n",
        "    if artist_name not in artist_lookup:\n",
        "        return \"Artist not found.\"\n",
        "\n",
        "    artist_index = artist_lookup[artist_name]\n",
        "    artist_tracks_indices = [idx for idx, artist in enumerate(smaller_merged_data['artistname']) if artist == artist_index]\n",
        "    if not artist_tracks_indices:\n",
        "        return \"No tracks found for this artist.\"\n",
        "\n",
        "    artist_profile = interaction_matrix[:, artist_tracks_indices].sum(axis=1)\n",
        "    if isinstance(artist_profile, np.matrix):\n",
        "        artist_profile = artist_profile.A  # Convert matrix to ndarray if necessary\n",
        "\n",
        "    artist_profile = artist_profile.reshape(1, -1)\n",
        "    similarities = cosine_similarity(artist_profile, interaction_matrix).flatten()\n",
        "\n",
        "    top_indices = np.argsort(similarities)[::-1][1:top_n+1]\n",
        "    recommended_artist_names = [artist for idx, artist in artist_lookup.items() if idx in top_indices]\n",
        "\n",
        "    return recommended_artist_names\n",
        "\n",
        "# Define the mapping from track indices to artist indices\n",
        "track_to_artist = {track_idx: artist_lookup[artist] for track_idx, artist in enumerate(smaller_merged_data['artistname'])}\n",
        "\n",
        "# Test the functions\n",
        "test_song = 'rise'\n",
        "test_artist = 'eminem'\n",
        "print(recommend_songs(test_song, interaction_matrix, song_lookup))\n",
        "print(recommend_artists(test_artist, interaction_matrix, artist_lookup, track_to_artist))\n"
      ],
      "metadata": {
        "colab": {
          "base_uri": "https://localhost:8080/",
          "height": 367
        },
        "id": "rClMM2LSJZMq",
        "outputId": "e5c12117-b335-4ab1-9585-bf7a9941f923"
      },
      "execution_count": 9,
      "outputs": [
        {
          "output_type": "error",
          "ename": "KeyError",
          "evalue": "nan",
          "traceback": [
            "\u001b[0;31m---------------------------------------------------------------------------\u001b[0m",
            "\u001b[0;31mKeyError\u001b[0m                                  Traceback (most recent call last)",
            "\u001b[0;32m<ipython-input-9-834caa533305>\u001b[0m in \u001b[0;36m<cell line: 40>\u001b[0;34m()\u001b[0m\n\u001b[1;32m     38\u001b[0m \u001b[0;34m\u001b[0m\u001b[0m\n\u001b[1;32m     39\u001b[0m \u001b[0;31m# Define the mapping from track indices to artist indices\u001b[0m\u001b[0;34m\u001b[0m\u001b[0;34m\u001b[0m\u001b[0m\n\u001b[0;32m---> 40\u001b[0;31m \u001b[0mtrack_to_artist\u001b[0m \u001b[0;34m=\u001b[0m \u001b[0;34m{\u001b[0m\u001b[0mtrack_idx\u001b[0m\u001b[0;34m:\u001b[0m \u001b[0martist_lookup\u001b[0m\u001b[0;34m[\u001b[0m\u001b[0martist\u001b[0m\u001b[0;34m]\u001b[0m \u001b[0;32mfor\u001b[0m \u001b[0mtrack_idx\u001b[0m\u001b[0;34m,\u001b[0m \u001b[0martist\u001b[0m \u001b[0;32min\u001b[0m \u001b[0menumerate\u001b[0m\u001b[0;34m(\u001b[0m\u001b[0msmaller_merged_data\u001b[0m\u001b[0;34m[\u001b[0m\u001b[0;34m'artistname'\u001b[0m\u001b[0;34m]\u001b[0m\u001b[0;34m)\u001b[0m\u001b[0;34m}\u001b[0m\u001b[0;34m\u001b[0m\u001b[0;34m\u001b[0m\u001b[0m\n\u001b[0m\u001b[1;32m     41\u001b[0m \u001b[0;34m\u001b[0m\u001b[0m\n\u001b[1;32m     42\u001b[0m \u001b[0;31m# Test the functions\u001b[0m\u001b[0;34m\u001b[0m\u001b[0;34m\u001b[0m\u001b[0m\n",
            "\u001b[0;32m<ipython-input-9-834caa533305>\u001b[0m in \u001b[0;36m<dictcomp>\u001b[0;34m(.0)\u001b[0m\n\u001b[1;32m     38\u001b[0m \u001b[0;34m\u001b[0m\u001b[0m\n\u001b[1;32m     39\u001b[0m \u001b[0;31m# Define the mapping from track indices to artist indices\u001b[0m\u001b[0;34m\u001b[0m\u001b[0;34m\u001b[0m\u001b[0m\n\u001b[0;32m---> 40\u001b[0;31m \u001b[0mtrack_to_artist\u001b[0m \u001b[0;34m=\u001b[0m \u001b[0;34m{\u001b[0m\u001b[0mtrack_idx\u001b[0m\u001b[0;34m:\u001b[0m \u001b[0martist_lookup\u001b[0m\u001b[0;34m[\u001b[0m\u001b[0martist\u001b[0m\u001b[0;34m]\u001b[0m \u001b[0;32mfor\u001b[0m \u001b[0mtrack_idx\u001b[0m\u001b[0;34m,\u001b[0m \u001b[0martist\u001b[0m \u001b[0;32min\u001b[0m \u001b[0menumerate\u001b[0m\u001b[0;34m(\u001b[0m\u001b[0msmaller_merged_data\u001b[0m\u001b[0;34m[\u001b[0m\u001b[0;34m'artistname'\u001b[0m\u001b[0;34m]\u001b[0m\u001b[0;34m)\u001b[0m\u001b[0;34m}\u001b[0m\u001b[0;34m\u001b[0m\u001b[0;34m\u001b[0m\u001b[0m\n\u001b[0m\u001b[1;32m     41\u001b[0m \u001b[0;34m\u001b[0m\u001b[0m\n\u001b[1;32m     42\u001b[0m \u001b[0;31m# Test the functions\u001b[0m\u001b[0;34m\u001b[0m\u001b[0;34m\u001b[0m\u001b[0m\n",
            "\u001b[0;31mKeyError\u001b[0m: nan"
          ]
        }
      ]
    },
    {
      "cell_type": "code",
      "source": [
        "from sklearn.metrics.pairwise import cosine_similarity\n",
        "import numpy as np\n",
        "\n",
        "def recommend_songs(song_name, interaction_matrix, song_lookup, top_n=5):\n",
        "    if song_name not in song_lookup:\n",
        "        return \"Song not found.\"\n",
        "\n",
        "    song_index = song_lookup[song_name]\n",
        "    song_features = interaction_matrix[:, song_index].T  # Transpose to match dimensions\n",
        "    similarities = cosine_similarity(song_features, interaction_matrix.T).flatten()\n",
        "\n",
        "    top_indices = np.argsort(similarities)[::-1][1:top_n+1]  # Exclude the song itself\n",
        "    recommended_song_names = [song for song, index in song_lookup.items() if index in top_indices]\n",
        "    return recommended_song_names\n",
        "\n",
        "# Assuming 'song_lookup' is a dictionary mapping song names to their indices\n",
        "song_lookup = dict(zip(pd.Categorical(smaller_merged_data['trackname']).categories, range(smaller_merged_data['trackname'].max()+1)))\n",
        "recommended_songs = recommend_songs('Some Song Name', interaction_matrix, song_lookup)\n",
        "print(\"Recommended Songs:\", recommended_songs)\n"
      ],
      "metadata": {
        "colab": {
          "base_uri": "https://localhost:8080/"
        },
        "id": "j6xbmwx8HU3d",
        "outputId": "02a38d22-0f6b-42a8-b736-e4da6d4b99b1"
      },
      "execution_count": 2,
      "outputs": [
        {
          "output_type": "stream",
          "name": "stdout",
          "text": [
            "Recommended Songs: Song not found.\n"
          ]
        }
      ]
    },
    {
      "cell_type": "code",
      "source": [
        "def recommend_artists(artist_name, interaction_matrix, artist_lookup, track_to_artist, top_n=5):\n",
        "    if artist_name not in artist_lookup:\n",
        "        return \"Artist not found.\"\n",
        "\n",
        "    artist_index = artist_lookup[artist_name]\n",
        "    # Aggregate interactions for all tracks by this artist\n",
        "    artist_tracks = [index for track, index in track_to_artist.items() if track == artist_index]\n",
        "    artist_profile = np.sum(interaction_matrix[:, artist_tracks], axis=1)\n",
        "\n",
        "    similarities = cosine_similarity(artist_profile, interaction_matrix).flatten()\n",
        "    top_indices = np.argsort(similarities)[::-1][1:top_n+1]\n",
        "    recommended_artist_names = [artist for artist, index in artist_lookup.items() if index in top_indices]\n",
        "    return recommended_artist_names\n",
        "\n",
        "# Create mappings needed for the function\n",
        "artist_lookup = dict(zip(pd.Categorical(smaller_merged_data['artistname']).categories, range(smaller_merged_data['artistname'].max()+1)))\n",
        "track_to_artist = dict(zip(smaller_merged_data['trackname'], smaller_merged_data['artistname']))\n",
        "recommended_artists = recommend_artists('Some Artist Name', interaction_matrix, artist_lookup, track_to_artist)\n",
        "print(\"Recommended Artists:\", recommended_artists)\n"
      ],
      "metadata": {
        "colab": {
          "base_uri": "https://localhost:8080/"
        },
        "id": "uDX0MtXlHcqJ",
        "outputId": "9e5483ca-924d-4516-d7c6-349d664db743"
      },
      "execution_count": 3,
      "outputs": [
        {
          "output_type": "stream",
          "name": "stdout",
          "text": [
            "Recommended Artists: Artist not found.\n"
          ]
        }
      ]
    },
    {
      "cell_type": "code",
      "source": [
        "import pandas as pd\n",
        "from scipy.sparse import csr_matrix\n",
        "import numpy as np\n",
        "\n",
        "# Load the dataset\n",
        "file_path = '/content/drive/My Drive/DATASET/smaller_merged_data.csv'\n",
        "smaller_merged_data = pd.read_csv(file_path)\n",
        "\n",
        "# Map user IDs and track names to categorical codes\n",
        "user_categ = pd.Categorical(smaller_merged_data['user_id'])\n",
        "track_categ = pd.Categorical(smaller_merged_data['trackname'])\n",
        "\n",
        "# Create row and column indices\n",
        "row_indices = user_categ.codes\n",
        "col_indices = track_categ.codes\n",
        "\n",
        "# Create a sparse matrix with rows as users and columns as tracks\n",
        "# Here, we create a binary interaction matrix directly.\n",
        "data = np.ones(len(smaller_merged_data))\n",
        "interaction_matrix = csr_matrix((data, (row_indices, col_indices)), shape=(user_categ.categories.size, track_categ.categories.size))\n",
        "\n",
        "# Optionally, save the sparse matrix to a file using scipy's save_npz function\n",
        "from scipy.sparse import save_npz\n",
        "save_npz('/content/drive/My Drive/DATASET/user_interaction_sparse_matrix.npz', interaction_matrix)\n",
        "\n",
        "# Load the matrix for use\n",
        "# from scipy.sparse import load_npz\n",
        "# interaction_matrix = load_npz('/content/drive/My Drive/DATASET/user_interaction_sparse_matrix.npz')\n",
        "\n",
        "# Display the shape of the interaction matrix\n",
        "print(f\"Interaction matrix shape: {interaction_matrix.shape}\")\n"
      ],
      "metadata": {
        "colab": {
          "base_uri": "https://localhost:8080/"
        },
        "id": "w3YzSjlwbCO7",
        "outputId": "5e992fc2-af3e-46d6-b74b-3527c4915048"
      },
      "execution_count": 1,
      "outputs": [
        {
          "output_type": "stream",
          "name": "stdout",
          "text": [
            "Interaction matrix shape: (15598, 101751)\n"
          ]
        }
      ]
    },
    {
      "cell_type": "code",
      "source": [
        "from scipy.sparse import load_npz\n",
        "import numpy as np\n",
        "\n",
        "# Load the interaction matrix\n",
        "interaction_matrix = load_npz('/content/drive/My Drive/DATASET/user_interaction_sparse_matrix.npz')\n",
        "\n",
        "# Total interactions\n",
        "total_interactions = interaction_matrix.count_nonzero()\n",
        "\n",
        "# Average number of interactions per user\n",
        "average_interactions_per_user = total_interactions / interaction_matrix.shape[0]\n",
        "\n",
        "# Average number of interactions per track\n",
        "average_interactions_per_track = total_interactions / interaction_matrix.shape[1]\n",
        "\n",
        "print(f\"Total interactions: {total_interactions}\")\n",
        "print(f\"Average interactions per user: {average_interactions_per_user:.2f}\")\n",
        "print(f\"Average interactions per track: {average_interactions_per_track:.2f}\")\n"
      ],
      "metadata": {
        "colab": {
          "base_uri": "https://localhost:8080/"
        },
        "id": "dBuou8ym6UT9",
        "outputId": "c97d12e1-dcec-489d-8941-aec26514929c"
      },
      "execution_count": 2,
      "outputs": [
        {
          "output_type": "stream",
          "name": "stdout",
          "text": [
            "Total interactions: 4380700\n",
            "Average interactions per user: 280.85\n",
            "Average interactions per track: 43.05\n"
          ]
        }
      ]
    },
    {
      "cell_type": "code",
      "source": [
        "import numpy as np\n",
        "from scipy.sparse import load_npz\n",
        "\n",
        "# Load the interaction matrix if not already loaded\n",
        "interaction_matrix = load_npz('/content/drive/My Drive/DATASET/user_interaction_sparse_matrix.npz')\n",
        "\n",
        "# Calculate the sum of interactions per user\n",
        "user_interactions_sum = np.array(interaction_matrix.sum(axis=1)).flatten()\n",
        "\n",
        "# Get indices of the top 10 active users\n",
        "top_users_indices = np.argsort(user_interactions_sum)[-10:]\n",
        "\n",
        "print(\"Top 10 active users by number of interactions:\")\n",
        "for index in top_users_indices:\n",
        "    print(f\"User Index: {index}, Interactions: {user_interactions_sum[index]}\")\n"
      ],
      "metadata": {
        "colab": {
          "base_uri": "https://localhost:8080/"
        },
        "id": "wPwBBJIT9XdB",
        "outputId": "dadffee7-29d0-481b-ea26-96954c97d2c4"
      },
      "execution_count": 1,
      "outputs": [
        {
          "output_type": "stream",
          "name": "stdout",
          "text": [
            "Top 10 active users by number of interactions:\n",
            "User Index: 10319, Interactions: 25843.0\n",
            "User Index: 12959, Interactions: 27571.0\n",
            "User Index: 14441, Interactions: 29748.0\n",
            "User Index: 11849, Interactions: 31528.0\n",
            "User Index: 6350, Interactions: 33220.0\n",
            "User Index: 6581, Interactions: 53744.0\n",
            "User Index: 15272, Interactions: 68403.0\n",
            "User Index: 7767, Interactions: 72201.0\n",
            "User Index: 9381, Interactions: 75179.0\n",
            "User Index: 4176, Interactions: 220405.0\n"
          ]
        }
      ]
    },
    {
      "cell_type": "code",
      "source": [
        "from sklearn.cluster import KMeans\n",
        "\n",
        "# Assume the interaction matrix is already in CSR format\n",
        "num_clusters = 5  # Define the number of clusters you want to identify\n",
        "kmeans = KMeans(n_clusters=num_clusters, random_state=0)\n",
        "user_labels = kmeans.fit_predict(interaction_matrix)\n",
        "\n",
        "# Analyze the size of each cluster\n",
        "cluster_sizes = np.bincount(user_labels)\n",
        "for i, size in enumerate(cluster_sizes):\n",
        "    print(f\"Cluster {i} has {size} users.\")\n"
      ],
      "metadata": {
        "colab": {
          "base_uri": "https://localhost:8080/"
        },
        "id": "RV5VagBP9fP4",
        "outputId": "77ae08a5-c675-4696-9027-f7f7110d1a89"
      },
      "execution_count": 2,
      "outputs": [
        {
          "output_type": "stream",
          "name": "stderr",
          "text": [
            "/usr/local/lib/python3.10/dist-packages/sklearn/cluster/_kmeans.py:870: FutureWarning: The default value of `n_init` will change from 10 to 'auto' in 1.4. Set the value of `n_init` explicitly to suppress the warning\n",
            "  warnings.warn(\n"
          ]
        },
        {
          "output_type": "stream",
          "name": "stdout",
          "text": [
            "Cluster 0 has 729 users.\n",
            "Cluster 1 has 2134 users.\n",
            "Cluster 2 has 12594 users.\n",
            "Cluster 3 has 1 users.\n",
            "Cluster 4 has 140 users.\n"
          ]
        }
      ]
    },
    {
      "cell_type": "code",
      "source": [
        "# Calculate interactions per track\n",
        "track_interactions_sum = np.array(interaction_matrix.sum(axis=0)).flatten()\n",
        "\n",
        "# Get indices of the least and most interacted tracks\n",
        "least_interacted_indices = np.argsort(track_interactions_sum)[:10]\n",
        "most_interacted_indices = np.argsort(track_interactions_sum)[-10:]\n",
        "\n",
        "print(\"Most interacted tracks:\")\n",
        "for index in most_interacted_indices:\n",
        "    print(f\"Track Index: {index}, Interactions: {track_interactions_sum[index]}\")\n",
        "\n",
        "print(\"\\nLeast interacted tracks:\")\n",
        "for index in least_interacted_indices:\n",
        "    print(f\"Track Index: {index}, Interactions: {track_interactions_sum[index]}\")\n"
      ],
      "metadata": {
        "colab": {
          "base_uri": "https://localhost:8080/"
        },
        "id": "rpM956U-9lnn",
        "outputId": "9b573f81-52a7-40a4-8138-78fe7704efae"
      },
      "execution_count": 3,
      "outputs": [
        {
          "output_type": "stream",
          "name": "stdout",
          "text": [
            "Most interacted tracks:\n",
            "Track Index: 5094, Interactions: 80490.0\n",
            "Track Index: 96850, Interactions: 87285.0\n",
            "Track Index: 27308, Interactions: 94705.0\n",
            "Track Index: 94792, Interactions: 98915.0\n",
            "Track Index: 34268, Interactions: 99944.0\n",
            "Track Index: 69275, Interactions: 103850.0\n",
            "Track Index: 76570, Interactions: 104755.0\n",
            "Track Index: 78008, Interactions: 128644.0\n",
            "Track Index: 41644, Interactions: 213632.0\n",
            "Track Index: 34518, Interactions: 229600.0\n",
            "\n",
            "Least interacted tracks:\n",
            "Track Index: 101750, Interactions: 1.0\n",
            "Track Index: 11916, Interactions: 1.0\n",
            "Track Index: 67155, Interactions: 1.0\n",
            "Track Index: 11918, Interactions: 1.0\n",
            "Track Index: 30779, Interactions: 1.0\n",
            "Track Index: 67165, Interactions: 1.0\n",
            "Track Index: 11922, Interactions: 1.0\n",
            "Track Index: 67172, Interactions: 1.0\n",
            "Track Index: 30764, Interactions: 1.0\n",
            "Track Index: 30763, Interactions: 1.0\n"
          ]
        }
      ]
    },
    {
      "cell_type": "code",
      "source": [
        "# Count interactions per track\n",
        "interactions_per_track = np.array(interaction_matrix.sum(axis=0)).flatten()\n",
        "\n",
        "# Get indices of the top 10 tracks\n",
        "top_tracks_indices = np.argsort(interactions_per_track)[-10:]\n",
        "\n",
        "print(\"Top 10 tracks by number of interactions:\")\n",
        "for index in top_tracks_indices:\n",
        "    print(f\"Track Index: {index}, Interactions: {interactions_per_track[index]}\")\n"
      ],
      "metadata": {
        "colab": {
          "base_uri": "https://localhost:8080/"
        },
        "id": "oUUpHtJh6gIn",
        "outputId": "728053ba-29ef-40f4-b322-5a9bf549329f"
      },
      "execution_count": 5,
      "outputs": [
        {
          "output_type": "stream",
          "name": "stdout",
          "text": [
            "Top 10 tracks by number of interactions:\n",
            "Track Index: 5094, Interactions: 80490.0\n",
            "Track Index: 96850, Interactions: 87285.0\n",
            "Track Index: 27308, Interactions: 94705.0\n",
            "Track Index: 94792, Interactions: 98915.0\n",
            "Track Index: 34268, Interactions: 99944.0\n",
            "Track Index: 69275, Interactions: 103850.0\n",
            "Track Index: 76570, Interactions: 104755.0\n",
            "Track Index: 78008, Interactions: 128644.0\n",
            "Track Index: 41644, Interactions: 213632.0\n",
            "Track Index: 34518, Interactions: 229600.0\n"
          ]
        }
      ]
    },
    {
      "cell_type": "code",
      "source": [
        "# Choose a user index to inspect\n",
        "user_index = 123  # Example index\n",
        "\n",
        "# Get the tracks that the user has interacted with\n",
        "user_interactions = interaction_matrix.getrow(user_index).toarray().flatten()\n",
        "\n",
        "# Print tracks interacted by the user\n",
        "interacted_indices = np.where(user_interactions > 0)[0]\n",
        "print(\"Tracks interacted by user index 123:\")\n",
        "print(interacted_indices)\n"
      ],
      "metadata": {
        "colab": {
          "base_uri": "https://localhost:8080/"
        },
        "id": "j8CD_mTh6mpH",
        "outputId": "af83891d-0fd6-4629-8bf2-e8655c78fb9d"
      },
      "execution_count": 5,
      "outputs": [
        {
          "output_type": "stream",
          "name": "stdout",
          "text": [
            "Tracks interacted by user index 123:\n",
            "[    50     54    132    166    314    653    660   1260   1369   2619\n",
            "   2629   3016   3107   3333   3615   3621   3622   3922   4328   4674\n",
            "   5173   5370   5801   6866   8378   8569   8655   8790   9350   9497\n",
            "   9794  10052  10363  10409  10738  11268  11393  11541  11589  11605\n",
            "  11646  11697  11819  12496  12510  12795  13124  13376  13712  15154\n",
            "  15194  15544  15901  16512  16645  16865  16907  18114  20045  20242\n",
            "  20842  20902  20932  21063  21772  22213  22636  23952  24029  24535\n",
            "  24578  24658  24731  25301  25509  25749  25909  26010  26075  26480\n",
            "  26618  26631  26788  26879  27343  27414  27657  28382  29448  29896\n",
            "  29960  30168  30330  30376  31748  31752  32065  32134  32353  32916\n",
            "  33052  33332  33649  33794  33882  33888  34152  34348  34518  34885\n",
            "  35303  35832  36353  36363  36851  37547  38021  38075  38583  38662\n",
            "  38898  39104  39275  39500  39535  41747  41830  41874  42510  43168\n",
            "  43174  43269  44474  44754  45149  45166  45317  45324  45978  46061\n",
            "  46320  46347  46568  46569  46578  47023  47224  47445  47619  47652\n",
            "  47732  48656  48773  48961  49093  49199  49320  49496  49861  49886\n",
            "  50197  50308  50355  50464  50525  50655  51491  51922  52028  52502\n",
            "  52578  52628  52755  52838  53010  53938  54445  54500  54794  54848\n",
            "  55253  55321  55327  55708  55795  56247  56639  57606  57690  58517\n",
            "  58601  58954  59205  59240  59848  59864  60028  60480  61045  61142\n",
            "  61301  61626  62065  62238  62615  62916  63044  63635  63742  64090\n",
            "  64315  65480  65599  65635  65692  65693  66184  66787  66790  67279\n",
            "  67555  68382  68900  69045  69076  69284  69903  69907  70883  70978\n",
            "  71843  71899  71969  72279  73276  73510  73894  73910  73954  74002\n",
            "  74282  74361  74707  74708  74756  74811  75121  75494  75707  75925\n",
            "  76246  76265  76787  77207  77517  77969  78280  78561  78680  78852\n",
            "  79380  79475  79542  79778  80111  80314  80823  81608  81629  81729\n",
            "  81930  81952  82171  82191  82275  82501  82717  82808  83207  83286\n",
            "  83469  83867  84270  84312  84396  84498  84777  85954  86282  86385\n",
            "  86386  87282  87448  87634  87895  88100  88634  88988  89175  89319\n",
            "  89333  89425  89561  89789  90842  91094  91131  91140  91248  91589\n",
            "  91760  92556  93176  93386  93411  93733  93800  93843  94039  94238\n",
            "  94953  95164  95413  95462  95554  95801  95990  96655  96674  96718\n",
            "  96982  97304  97472  97499  98410  98461  99094 101533]\n"
          ]
        }
      ]
    },
    {
      "cell_type": "code",
      "source": [
        "from scipy.sparse import load_npz\n",
        "from sklearn.decomposition import TruncatedSVD\n",
        "import pandas as pd\n",
        "\n",
        "# Load the sparse interaction matrix\n",
        "interaction_matrix = load_npz('/content/drive/My Drive/DATASET/user_interaction_sparse_matrix.npz')\n",
        "\n",
        "# Apply SVD\n",
        "svd = TruncatedSVD(n_components=100, random_state=42)  # n_components depends on your data and goal\n",
        "user_features = svd.fit_transform(interaction_matrix)\n",
        "\n",
        "# Example: Print the shape of the transformed features\n",
        "print(user_features.shape)\n"
      ],
      "metadata": {
        "colab": {
          "base_uri": "https://localhost:8080/"
        },
        "id": "TsOWftJG_M3F",
        "outputId": "fa040ece-a7ac-48c0-86b8-eeb96b2e5721"
      },
      "execution_count": 2,
      "outputs": [
        {
          "output_type": "stream",
          "name": "stdout",
          "text": [
            "(15598, 100)\n"
          ]
        }
      ]
    },
    {
      "cell_type": "code",
      "source": [
        "import numpy as np\n",
        "\n",
        "# Ensure user_features[user_index] is a 1D array of shape (100,)\n",
        "user_features_vector = user_features[user_index, :]  # This ensures it is treated as a 1D array\n",
        "\n",
        "# Compute dot product\n",
        "# The user features vector should be (1, 100) and svd.components_ is (100, 101751)\n",
        "predicted_scores = np.dot(user_features_vector, svd.components_)\n",
        "\n",
        "# Assuming you want the top 10 scores\n",
        "top_10_items_indices = np.argsort(predicted_scores)[::-1][:10]\n",
        "\n",
        "print(\"Top 10 recommended items for the first user:\", top_10_items_indices)\n"
      ],
      "metadata": {
        "colab": {
          "base_uri": "https://localhost:8080/"
        },
        "id": "kfLdBnNS_U7t",
        "outputId": "bab2019a-52e9-4abc-e726-089e4b493cb5"
      },
      "execution_count": 10,
      "outputs": [
        {
          "output_type": "stream",
          "name": "stdout",
          "text": [
            "Top 10 recommended items for the first user: [76633 27821  7680  3884 34415 21373 40699 29383 56467 53139]\n"
          ]
        }
      ]
    },
    {
      "cell_type": "code",
      "source": [
        "import numpy as np\n",
        "\n",
        "from sklearn.metrics.pairwise import cosine_similarity\n",
        "\n",
        "# Transpose SVD components to get features as columns for items\n",
        "item_features = svd.components_.T\n",
        "\n",
        "# Function to get song recommendations based on another song\n",
        "def get_song_recommendations_on_demand(song_index, item_features, top_n=10):\n",
        "    # Compute cosine similarity between the selected song and all other songs\n",
        "    song_features = item_features[song_index:song_index+1]  # Slice to keep 2D shape\n",
        "    similarities = cosine_similarity(song_features, item_features).flatten()\n",
        "\n",
        "    # Get top N similar songs, skipping the first one (the song itself)\n",
        "    top_indices = np.argsort(similarities)[::-1][1:top_n+1]\n",
        "\n",
        "    return top_indices, similarities[top_indices]\n",
        "\n",
        "# Example usage: Get recommendations for a specific song index\n",
        "song_index = 100  # This should be the index of the song in your dataset\n",
        "recommended_indices, recommended_scores = get_song_recommendations_on_demand(song_index, item_features)\n",
        "print(\"Recommended Songs Based on Song Index 100:\", recommended_indices)\n",
        "print(\"Scores:\", recommended_scores)\n"
      ],
      "metadata": {
        "colab": {
          "base_uri": "https://localhost:8080/"
        },
        "id": "Wg4TCuPVBDNP",
        "outputId": "5509e389-f5aa-42e5-b64e-26cb1d3edb97"
      },
      "execution_count": 4,
      "outputs": [
        {
          "output_type": "stream",
          "name": "stdout",
          "text": [
            "Recommended Songs Based on Song Index 100: [74254 85036 48054 31252 32981 25304 33830 19456 69238 34325]\n",
            "Scores: [1.         0.61523358 0.58530645 0.57298106 0.55971818 0.55188116\n",
            " 0.55173334 0.55173334 0.55173334 0.55173334]\n"
          ]
        }
      ]
    },
    {
      "cell_type": "code",
      "source": [
        "\n",
        "# Save the interaction matrix\n",
        "interaction_matrix.to_csv('/content/drive/My Drive/DATASET/user_interaction_matrix.csv')"
      ],
      "metadata": {
        "id": "1hnrfeBFzFoQ"
      },
      "execution_count": null,
      "outputs": []
    }
  ]
}