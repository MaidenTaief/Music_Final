{
  "nbformat": 4,
  "nbformat_minor": 0,
  "metadata": {
    "colab": {
      "provenance": [],
      "machine_shape": "hm",
      "authorship_tag": "ABX9TyPCWzeK3HPAVGeIQpMPQnxR",
      "include_colab_link": true
    },
    "kernelspec": {
      "name": "python3",
      "display_name": "Python 3"
    },
    "language_info": {
      "name": "python"
    }
  },
  "cells": [
    {
      "cell_type": "markdown",
      "metadata": {
        "id": "view-in-github",
        "colab_type": "text"
      },
      "source": [
        "<a href=\"https://colab.research.google.com/github/MaidenTaief/Music_Final/blob/main/Merge_genre_data.ipynb\" target=\"_parent\"><img src=\"https://colab.research.google.com/assets/colab-badge.svg\" alt=\"Open In Colab\"/></a>"
      ]
    },
    {
      "cell_type": "code",
      "source": [
        "from google.colab import drive\n",
        "drive.mount('/content/drive')"
      ],
      "metadata": {
        "colab": {
          "base_uri": "https://localhost:8080/"
        },
        "id": "dXOV3_buKZsU",
        "outputId": "0d6dcbdb-f2d7-497f-e81f-d544f780010e"
      },
      "execution_count": 1,
      "outputs": [
        {
          "output_type": "stream",
          "name": "stdout",
          "text": [
            "Mounted at /content/drive\n"
          ]
        }
      ]
    },
    {
      "cell_type": "code",
      "source": [
        "import pandas as pd\n",
        "\n",
        "# Dataset path\n",
        "dataset_path = '/content/drive/My Drive/DATASET'\n",
        "\n",
        "# Load Data\n",
        "genre_csv = pd.read_csv(f'{dataset_path}/data_w_genres.csv')\n",
        "label_data = pd.read_csv(f'{dataset_path}/data_final_with_descriptive_labels.csv')\n",
        "\n",
        "\n",
        "import ast  # For safely evaluating strings containing Python expressions\n",
        "\n",
        "def clean_artists_names(x):\n",
        "    if x.startswith('['):\n",
        "        x = ast.literal_eval(x)\n",
        "        return ', '.join(x)\n",
        "    return x.strip()\n",
        "\n",
        "genre_csv['artists'] = genre_csv['artists'].str.strip()\n",
        "label_data['artists'] = label_data['artists'].apply(clean_artists_names)\n",
        "\n",
        "# Merge the datasets on the 'artists' column\n",
        "merged_data = pd.merge(\n",
        "    label_data[['artists', 'name', 'popularity', 'year', 'cluster', 'Cluster_Description']],\n",
        "    genre_csv[['artists', 'genres']],\n",
        "    on='artists',\n",
        "    how='left'\n",
        ")\n",
        "\n",
        "# Normalize genre data\n",
        "merged_data['genres'] = merged_data['genres'].apply(lambda x: 'Unknown' if pd.isna(x) or x == '[]' else x)\n",
        "\n",
        "def normalize_genres(genre_list):\n",
        "    if genre_list == 'Unknown':\n",
        "        return 'Unknown'\n",
        "    genre_list = ast.literal_eval(genre_list) if isinstance(genre_list, str) else genre_list\n",
        "    return ' / '.join(sorted(set(genre_list)))\n",
        "\n",
        "merged_data['genres'] = merged_data['genres'].apply(normalize_genres)\n",
        "\n",
        "print(merged_data.sample(10))\n",
        "print(merged_data.info())\n",
        "print(merged_data.describe())"
      ],
      "metadata": {
        "colab": {
          "base_uri": "https://localhost:8080/"
        },
        "id": "D13I_Ar-KfPs",
        "outputId": "d70f7c4b-51fc-4d1e-e008-73437a3713ec"
      },
      "execution_count": 3,
      "outputs": [
        {
          "output_type": "stream",
          "name": "stdout",
          "text": [
            "                               artists  \\\n",
            "44556                      Eartha Kitt   \n",
            "162778          Brian Eno, David Byrne   \n",
            "79098   Francisco Canaro, Mario Alonso   \n",
            "48909                      Little Feat   \n",
            "164994           El Haragán y Compañía   \n",
            "104679                     Eva Cassidy   \n",
            "3347                     Benny Goodman   \n",
            "81283                  Louis Armstrong   \n",
            "128780                    The Olympics   \n",
            "65326                              Yes   \n",
            "\n",
            "                                                     name  popularity  year  \\\n",
            "44556                          Uska Dara - A Turkish Tale          23  1956   \n",
            "162778                                 Moonlight in Glory          21  1981   \n",
            "79098                     Noche de Niebla - Remasterizado           0  1953   \n",
            "48909   Spanish Moon - Live at Lisner Auditorium, Wash...          35  1978   \n",
            "164994                                  Antes Me Gustabas          40  1992   \n",
            "104679                                       Kathy's Song          50  2000   \n",
            "3347                                        Avalon - Live           0  1938   \n",
            "81283                              Be My Life's Companion          25  1964   \n",
            "128780                                        Hully Gully          12  1960   \n",
            "65326                          Your Move - Single Version          35  1971   \n",
            "\n",
            "        cluster              Cluster_Description  \\\n",
            "44556         1        Joyful / Danceable / Live   \n",
            "162778        1        Joyful / Danceable / Live   \n",
            "79098         3        Mellow / Vibrant / Joyful   \n",
            "48909         0  Varied Tempo / Vibrant / Mellow   \n",
            "164994        0  Varied Tempo / Vibrant / Mellow   \n",
            "104679        3        Mellow / Vibrant / Joyful   \n",
            "3347          2       Lyrical / Live / Danceable   \n",
            "81283         1        Joyful / Danceable / Live   \n",
            "128780        1        Joyful / Danceable / Live   \n",
            "65326         1        Joyful / Danceable / Live   \n",
            "\n",
            "                                                   genres  \n",
            "44556   adult standards / lounge / torch song / vocal ...  \n",
            "162778                                            Unknown  \n",
            "79098                                             Unknown  \n",
            "48909   blues rock / classic rock / country rock / ele...  \n",
            "164994             rock en espanol / rock urbano mexicano  \n",
            "104679       adult standards / folk / lilith / vocal jazz  \n",
            "3347    adult standards / bebop / big band / jazz / ja...  \n",
            "81283   adult standards / dixieland / harlem renaissan...  \n",
            "128780                         doo-wop / rhythm and blues  \n",
            "65326   album rock / art rock / classic rock / hard ro...  \n",
            "<class 'pandas.core.frame.DataFrame'>\n",
            "RangeIndex: 170653 entries, 0 to 170652\n",
            "Data columns (total 7 columns):\n",
            " #   Column               Non-Null Count   Dtype \n",
            "---  ------               --------------   ----- \n",
            " 0   artists              170653 non-null  object\n",
            " 1   name                 170653 non-null  object\n",
            " 2   popularity           170653 non-null  int64 \n",
            " 3   year                 170653 non-null  int64 \n",
            " 4   cluster              170653 non-null  int64 \n",
            " 5   Cluster_Description  170653 non-null  object\n",
            " 6   genres               170653 non-null  object\n",
            "dtypes: int64(3), object(4)\n",
            "memory usage: 9.1+ MB\n",
            "None\n",
            "          popularity           year        cluster\n",
            "count  170653.000000  170653.000000  170653.000000\n",
            "mean       31.431794    1976.787241       1.790429\n",
            "std        21.826615      25.917853       1.423211\n",
            "min         0.000000    1921.000000       0.000000\n",
            "25%        11.000000    1956.000000       1.000000\n",
            "50%        33.000000    1977.000000       1.000000\n",
            "75%        48.000000    1999.000000       3.000000\n",
            "max       100.000000    2020.000000       4.000000\n"
          ]
        }
      ]
    },
    {
      "cell_type": "code",
      "source": [
        "merged_data.to_csv(f'{dataset_path}/data_final_cleaned1.csv', index=False)"
      ],
      "metadata": {
        "id": "7-E5vFweLowG"
      },
      "execution_count": 4,
      "outputs": []
    }
  ]
}