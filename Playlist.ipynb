{
 "cells": [
  {
   "cell_type": "code",
   "execution_count": 4,
   "outputs": [
    {
     "ename": "ParserError",
     "evalue": "Error tokenizing data. C error: Expected 4 fields in line 14735, saw 5\n",
     "output_type": "error",
     "traceback": [
      "\u001B[0;31m---------------------------------------------------------------------------\u001B[0m",
      "\u001B[0;31mParserError\u001B[0m                               Traceback (most recent call last)",
      "Cell \u001B[0;32mIn[4], line 5\u001B[0m\n\u001B[1;32m      3\u001B[0m \u001B[38;5;66;03m# Step 1: Load the Spotify playlists dataset\u001B[39;00m\n\u001B[1;32m      4\u001B[0m spotify_playlists_path \u001B[38;5;241m=\u001B[39m \u001B[38;5;124m'\u001B[39m\u001B[38;5;124m/Users/taief/Desktop/Music_Final/spotify_dataset.csv\u001B[39m\u001B[38;5;124m'\u001B[39m\n\u001B[0;32m----> 5\u001B[0m spotify_df \u001B[38;5;241m=\u001B[39m \u001B[43mpd\u001B[49m\u001B[38;5;241;43m.\u001B[39;49m\u001B[43mread_csv\u001B[49m\u001B[43m(\u001B[49m\u001B[43mspotify_playlists_path\u001B[49m\u001B[43m,\u001B[49m\u001B[43m \u001B[49m\u001B[43mescapechar\u001B[49m\u001B[38;5;241;43m=\u001B[39;49m\u001B[38;5;124;43m'\u001B[39;49m\u001B[38;5;130;43;01m\\\\\u001B[39;49;00m\u001B[38;5;124;43m'\u001B[39;49m\u001B[43m,\u001B[49m\u001B[43m \u001B[49m\u001B[43mquotechar\u001B[49m\u001B[38;5;241;43m=\u001B[39;49m\u001B[38;5;124;43m'\u001B[39;49m\u001B[38;5;124;43m\"\u001B[39;49m\u001B[38;5;124;43m'\u001B[39;49m\u001B[43m,\u001B[49m\u001B[43m \u001B[49m\u001B[43msep\u001B[49m\u001B[38;5;241;43m=\u001B[39;49m\u001B[38;5;124;43m'\u001B[39;49m\u001B[38;5;124;43m,\u001B[39;49m\u001B[38;5;124;43m'\u001B[39;49m\u001B[43m)\u001B[49m\n\u001B[1;32m      7\u001B[0m \u001B[38;5;66;03m# Normalize text fields to ensure better matching\u001B[39;00m\n\u001B[1;32m      8\u001B[0m spotify_df[\u001B[38;5;124m'\u001B[39m\u001B[38;5;124martistname\u001B[39m\u001B[38;5;124m'\u001B[39m] \u001B[38;5;241m=\u001B[39m spotify_df[\u001B[38;5;124m'\u001B[39m\u001B[38;5;124martistname\u001B[39m\u001B[38;5;124m'\u001B[39m]\u001B[38;5;241m.\u001B[39mstr\u001B[38;5;241m.\u001B[39mlower()\u001B[38;5;241m.\u001B[39mstr\u001B[38;5;241m.\u001B[39mstrip()\n",
      "File \u001B[0;32m~/Desktop/Music_Final/venv/lib/python3.9/site-packages/pandas/io/parsers/readers.py:1026\u001B[0m, in \u001B[0;36mread_csv\u001B[0;34m(filepath_or_buffer, sep, delimiter, header, names, index_col, usecols, dtype, engine, converters, true_values, false_values, skipinitialspace, skiprows, skipfooter, nrows, na_values, keep_default_na, na_filter, verbose, skip_blank_lines, parse_dates, infer_datetime_format, keep_date_col, date_parser, date_format, dayfirst, cache_dates, iterator, chunksize, compression, thousands, decimal, lineterminator, quotechar, quoting, doublequote, escapechar, comment, encoding, encoding_errors, dialect, on_bad_lines, delim_whitespace, low_memory, memory_map, float_precision, storage_options, dtype_backend)\u001B[0m\n\u001B[1;32m   1013\u001B[0m kwds_defaults \u001B[38;5;241m=\u001B[39m _refine_defaults_read(\n\u001B[1;32m   1014\u001B[0m     dialect,\n\u001B[1;32m   1015\u001B[0m     delimiter,\n\u001B[0;32m   (...)\u001B[0m\n\u001B[1;32m   1022\u001B[0m     dtype_backend\u001B[38;5;241m=\u001B[39mdtype_backend,\n\u001B[1;32m   1023\u001B[0m )\n\u001B[1;32m   1024\u001B[0m kwds\u001B[38;5;241m.\u001B[39mupdate(kwds_defaults)\n\u001B[0;32m-> 1026\u001B[0m \u001B[38;5;28;01mreturn\u001B[39;00m \u001B[43m_read\u001B[49m\u001B[43m(\u001B[49m\u001B[43mfilepath_or_buffer\u001B[49m\u001B[43m,\u001B[49m\u001B[43m \u001B[49m\u001B[43mkwds\u001B[49m\u001B[43m)\u001B[49m\n",
      "File \u001B[0;32m~/Desktop/Music_Final/venv/lib/python3.9/site-packages/pandas/io/parsers/readers.py:626\u001B[0m, in \u001B[0;36m_read\u001B[0;34m(filepath_or_buffer, kwds)\u001B[0m\n\u001B[1;32m    623\u001B[0m     \u001B[38;5;28;01mreturn\u001B[39;00m parser\n\u001B[1;32m    625\u001B[0m \u001B[38;5;28;01mwith\u001B[39;00m parser:\n\u001B[0;32m--> 626\u001B[0m     \u001B[38;5;28;01mreturn\u001B[39;00m \u001B[43mparser\u001B[49m\u001B[38;5;241;43m.\u001B[39;49m\u001B[43mread\u001B[49m\u001B[43m(\u001B[49m\u001B[43mnrows\u001B[49m\u001B[43m)\u001B[49m\n",
      "File \u001B[0;32m~/Desktop/Music_Final/venv/lib/python3.9/site-packages/pandas/io/parsers/readers.py:1923\u001B[0m, in \u001B[0;36mTextFileReader.read\u001B[0;34m(self, nrows)\u001B[0m\n\u001B[1;32m   1916\u001B[0m nrows \u001B[38;5;241m=\u001B[39m validate_integer(\u001B[38;5;124m\"\u001B[39m\u001B[38;5;124mnrows\u001B[39m\u001B[38;5;124m\"\u001B[39m, nrows)\n\u001B[1;32m   1917\u001B[0m \u001B[38;5;28;01mtry\u001B[39;00m:\n\u001B[1;32m   1918\u001B[0m     \u001B[38;5;66;03m# error: \"ParserBase\" has no attribute \"read\"\u001B[39;00m\n\u001B[1;32m   1919\u001B[0m     (\n\u001B[1;32m   1920\u001B[0m         index,\n\u001B[1;32m   1921\u001B[0m         columns,\n\u001B[1;32m   1922\u001B[0m         col_dict,\n\u001B[0;32m-> 1923\u001B[0m     ) \u001B[38;5;241m=\u001B[39m \u001B[38;5;28;43mself\u001B[39;49m\u001B[38;5;241;43m.\u001B[39;49m\u001B[43m_engine\u001B[49m\u001B[38;5;241;43m.\u001B[39;49m\u001B[43mread\u001B[49m\u001B[43m(\u001B[49m\u001B[43m  \u001B[49m\u001B[38;5;66;43;03m# type: ignore[attr-defined]\u001B[39;49;00m\n\u001B[1;32m   1924\u001B[0m \u001B[43m        \u001B[49m\u001B[43mnrows\u001B[49m\n\u001B[1;32m   1925\u001B[0m \u001B[43m    \u001B[49m\u001B[43m)\u001B[49m\n\u001B[1;32m   1926\u001B[0m \u001B[38;5;28;01mexcept\u001B[39;00m \u001B[38;5;167;01mException\u001B[39;00m:\n\u001B[1;32m   1927\u001B[0m     \u001B[38;5;28mself\u001B[39m\u001B[38;5;241m.\u001B[39mclose()\n",
      "File \u001B[0;32m~/Desktop/Music_Final/venv/lib/python3.9/site-packages/pandas/io/parsers/c_parser_wrapper.py:234\u001B[0m, in \u001B[0;36mCParserWrapper.read\u001B[0;34m(self, nrows)\u001B[0m\n\u001B[1;32m    232\u001B[0m \u001B[38;5;28;01mtry\u001B[39;00m:\n\u001B[1;32m    233\u001B[0m     \u001B[38;5;28;01mif\u001B[39;00m \u001B[38;5;28mself\u001B[39m\u001B[38;5;241m.\u001B[39mlow_memory:\n\u001B[0;32m--> 234\u001B[0m         chunks \u001B[38;5;241m=\u001B[39m \u001B[38;5;28;43mself\u001B[39;49m\u001B[38;5;241;43m.\u001B[39;49m\u001B[43m_reader\u001B[49m\u001B[38;5;241;43m.\u001B[39;49m\u001B[43mread_low_memory\u001B[49m\u001B[43m(\u001B[49m\u001B[43mnrows\u001B[49m\u001B[43m)\u001B[49m\n\u001B[1;32m    235\u001B[0m         \u001B[38;5;66;03m# destructive to chunks\u001B[39;00m\n\u001B[1;32m    236\u001B[0m         data \u001B[38;5;241m=\u001B[39m _concatenate_chunks(chunks)\n",
      "File \u001B[0;32mparsers.pyx:838\u001B[0m, in \u001B[0;36mpandas._libs.parsers.TextReader.read_low_memory\u001B[0;34m()\u001B[0m\n",
      "File \u001B[0;32mparsers.pyx:905\u001B[0m, in \u001B[0;36mpandas._libs.parsers.TextReader._read_rows\u001B[0;34m()\u001B[0m\n",
      "File \u001B[0;32mparsers.pyx:874\u001B[0m, in \u001B[0;36mpandas._libs.parsers.TextReader._tokenize_rows\u001B[0;34m()\u001B[0m\n",
      "File \u001B[0;32mparsers.pyx:891\u001B[0m, in \u001B[0;36mpandas._libs.parsers.TextReader._check_tokenize_status\u001B[0;34m()\u001B[0m\n",
      "File \u001B[0;32mparsers.pyx:2061\u001B[0m, in \u001B[0;36mpandas._libs.parsers.raise_parser_error\u001B[0;34m()\u001B[0m\n",
      "\u001B[0;31mParserError\u001B[0m: Error tokenizing data. C error: Expected 4 fields in line 14735, saw 5\n"
     ]
    }
   ],
   "source": [
    "import pandas as pd\n",
    "\n",
    "# Step 1: Load the Spotify playlists dataset\n",
    "spotify_playlists_path = '/Users/taief/Desktop/Music_Final/spotify_dataset.csv'\n",
    "spotify_df = pd.read_csv(spotify_playlists_path, escapechar='\\\\', quotechar='\"', sep=',')\n",
    "\n",
    "# Normalize text fields to ensure better matching\n",
    "spotify_df['artistname'] = spotify_df['artistname'].str.lower().str.strip()\n",
    "spotify_df['trackname'] = spotify_df['trackname'].str.lower().str.strip()\n",
    "\n",
    "# Quick check to ensure everything loaded as expected\n",
    "print(spotify_df.head())\n"
   ],
   "metadata": {
    "collapsed": false,
    "ExecuteTime": {
     "end_time": "2024-03-22T09:22:45.708633Z",
     "start_time": "2024-03-22T09:22:45.555778Z"
    }
   },
   "id": "116e7ddc907c9787"
  },
  {
   "cell_type": "code",
   "execution_count": 8,
   "id": "initial_id",
   "metadata": {
    "collapsed": true,
    "ExecuteTime": {
     "end_time": "2024-03-22T09:26:32.329965Z",
     "start_time": "2024-03-22T09:26:12.757606Z"
    }
   },
   "outputs": [
    {
     "name": "stdout",
     "output_type": "stream",
     "text": [
      "                            user_id                      \"artistname\"  \\\n",
      "0  9cc0cfd4d7d7885102480dd99e7a90d6                    Elvis Costello   \n",
      "1  9cc0cfd4d7d7885102480dd99e7a90d6  Elvis Costello & The Attractions   \n",
      "2  9cc0cfd4d7d7885102480dd99e7a90d6                      Tiffany Page   \n",
      "3  9cc0cfd4d7d7885102480dd99e7a90d6  Elvis Costello & The Attractions   \n",
      "4  9cc0cfd4d7d7885102480dd99e7a90d6                    Elvis Costello   \n",
      "\n",
      "                                         \"trackname\"  \"playlistname\"  \n",
      "0               (The Angels Wanna Wear My) Red Shoes  HARD ROCK 2010  \n",
      "1  (What's So Funny 'Bout) Peace, Love And Unders...  HARD ROCK 2010  \n",
      "2                                   7 Years Too Late  HARD ROCK 2010  \n",
      "3                              Accidents Will Happen  HARD ROCK 2010  \n",
      "4                                             Alison  HARD ROCK 2010  \n",
      "\n",
      "Column names in the DataFrame: ['user_id', ' \"artistname\"', ' \"trackname\"', ' \"playlistname\"']\n"
     ]
    }
   ],
   "source": [
    "import pandas as pd\n",
    "\n",
    "spotify_playlists_path = '/Users/taief/Desktop/Music_Final/spotify_dataset.csv'\n",
    "\n",
    "try:\n",
    "    # Adjusting the code to use 'on_bad_lines' to skip problematic lines\n",
    "    spotify_df = pd.read_csv(spotify_playlists_path, on_bad_lines='skip')\n",
    "\n",
    "    # Display the first few rows to understand the data structure\n",
    "    print(spotify_df.head())\n",
    "\n",
    "    # Display the column names to verify\n",
    "    print(\"\\nColumn names in the DataFrame:\", spotify_df.columns.tolist())\n",
    "\n",
    "except Exception as e:\n",
    "    print(f\"An error occurred: {e}\")\n"
   ]
  },
  {
   "cell_type": "code",
   "execution_count": 12,
   "outputs": [
    {
     "name": "stdout",
     "output_type": "stream",
     "text": [
      "\n",
      "Matched tracks preview:\n",
      "                            user_id                        artistname  \\\n",
      "0  9cc0cfd4d7d7885102480dd99e7a90d6                    elvis costello   \n",
      "1  9cc0cfd4d7d7885102480dd99e7a90d6  elvis costello & the attractions   \n",
      "3  9cc0cfd4d7d7885102480dd99e7a90d6  elvis costello & the attractions   \n",
      "4  9cc0cfd4d7d7885102480dd99e7a90d6                    elvis costello   \n",
      "6  9cc0cfd4d7d7885102480dd99e7a90d6                    paul mccartney   \n",
      "\n",
      "                                           trackname    playlistname  \\\n",
      "0               (the angels wanna wear my) red shoes  HARD ROCK 2010   \n",
      "1  (what's so funny 'bout) peace, love and unders...  HARD ROCK 2010   \n",
      "3                              accidents will happen  HARD ROCK 2010   \n",
      "4                                             alison  HARD ROCK 2010   \n",
      "6                                    band on the run  HARD ROCK 2010   \n",
      "\n",
      "                                           unique_id  \n",
      "0  elvis costello - (the angels wanna wear my) re...  \n",
      "1  elvis costello & the attractions - (what's so ...  \n",
      "3  elvis costello & the attractions - accidents w...  \n",
      "4                            elvis costello - alison  \n",
      "6                   paul mccartney - band on the run  \n",
      "\n",
      "data_final preview:\n",
      "                                             artists  \\\n",
      "0                                sergei rachmaninoff   \n",
      "1                                         dennis day   \n",
      "2  khp kridhamardawa karaton ngayogyakarta hadini...   \n",
      "3                                       frank parker   \n",
      "4                                         phil regan   \n",
      "\n",
      "                                                name  \\\n",
      "0  piano concerto no. 3 in d minor, op. 30: iii. ...   \n",
      "1                            clancy lowered the boom   \n",
      "2                                          gati bali   \n",
      "3                                          danny boy   \n",
      "4                        when irish eyes are smiling   \n",
      "\n",
      "                                           unique_id  \n",
      "0  sergei rachmaninoff - piano concerto no. 3 in ...  \n",
      "1               dennis day - clancy lowered the boom  \n",
      "2  khp kridhamardawa karaton ngayogyakarta hadini...  \n",
      "3                           frank parker - danny boy  \n",
      "4           phil regan - when irish eyes are smiling  \n",
      "\n",
      "spotify_df preview:\n",
      "                         artistname  \\\n",
      "0                    elvis costello   \n",
      "1  elvis costello & the attractions   \n",
      "2                      tiffany page   \n",
      "3  elvis costello & the attractions   \n",
      "4                    elvis costello   \n",
      "\n",
      "                                           trackname  \\\n",
      "0               (the angels wanna wear my) red shoes   \n",
      "1  (what's so funny 'bout) peace, love and unders...   \n",
      "2                                   7 years too late   \n",
      "3                              accidents will happen   \n",
      "4                                             alison   \n",
      "\n",
      "                                           unique_id  \n",
      "0  elvis costello - (the angels wanna wear my) re...  \n",
      "1  elvis costello & the attractions - (what's so ...  \n",
      "2                    tiffany page - 7 years too late  \n",
      "3  elvis costello & the attractions - accidents w...  \n",
      "4                            elvis costello - alison  \n"
     ]
    }
   ],
   "source": [
    "import pandas as pd\n",
    "import ast\n",
    "\n",
    "# Load and prepare the Spotify playlists dataset\n",
    "spotify_playlists_path = '/Users/taief/Desktop/Music_Final/spotify_dataset.csv'\n",
    "spotify_df = pd.read_csv(spotify_playlists_path, on_bad_lines='skip')\n",
    "spotify_df.columns = ['user_id', 'artistname', 'trackname', 'playlistname']\n",
    "spotify_df['artistname'] = spotify_df['artistname'].str.lower().str.strip()\n",
    "spotify_df['trackname'] = spotify_df['trackname'].str.lower().str.strip()\n",
    "# Create a unique identifier in spotify_df\n",
    "spotify_df['unique_id'] = spotify_df['artistname'] + ' - ' + spotify_df['trackname']\n",
    "\n",
    "# Load and prepare the data_final dataset\n",
    "data_final_path = '/Users/taief/Desktop/Music_Final/Models/data_final_cleaned.csv'\n",
    "data_final = pd.read_csv(data_final_path)\n",
    "data_final['artists'] = data_final['artists'].apply(ast.literal_eval).apply(lambda x: x[0].lower().strip())\n",
    "data_final['name'] = data_final['name'].str.lower().str.strip()\n",
    "# Create a unique identifier in data_final\n",
    "data_final['unique_id'] = data_final['artists'] + ' - ' + data_final['name']\n",
    "\n",
    "# Identify tracks in spotify_df that are found in data_final using the 'unique_id'\n",
    "matched_tracks = spotify_df[spotify_df['unique_id'].isin(data_final['unique_id'])]\n",
    "\n",
    "# Display some of the matched tracks to verify the process\n",
    "print(\"\\nMatched tracks preview:\")\n",
    "print(matched_tracks.head())\n",
    "\n",
    "# Display the first few rows of both dataframes to verify the unique identifiers\n",
    "print(\"\\ndata_final preview:\")\n",
    "print(data_final[['artists', 'name', 'unique_id']].head())\n",
    "print(\"\\nspotify_df preview:\")\n",
    "print(spotify_df[['artistname', 'trackname', 'unique_id']].head())\n"
   ],
   "metadata": {
    "collapsed": false,
    "ExecuteTime": {
     "end_time": "2024-03-22T09:45:43.566131Z",
     "start_time": "2024-03-22T09:44:34.253776Z"
    }
   },
   "id": "c6f53054fdd894af"
  },
  {
   "cell_type": "code",
   "execution_count": 13,
   "outputs": [
    {
     "name": "stdout",
     "output_type": "stream",
     "text": [
      "Number of matched tracks: 3321115\n"
     ]
    }
   ],
   "source": [
    "#check the number of matched tracks\n",
    "print(\"Number of matched tracks:\", len(matched_tracks))\n"
   ],
   "metadata": {
    "collapsed": false,
    "ExecuteTime": {
     "end_time": "2024-03-22T10:24:22.768240Z",
     "start_time": "2024-03-22T10:24:22.759870Z"
    }
   },
   "id": "82d707214c560c08"
  },
  {
   "cell_type": "code",
   "execution_count": null,
   "outputs": [],
   "source": [],
   "metadata": {
    "collapsed": false
   },
   "id": "4c498ca06e2b3a92"
  }
 ],
 "metadata": {
  "kernelspec": {
   "display_name": "Python 3",
   "language": "python",
   "name": "python3"
  },
  "language_info": {
   "codemirror_mode": {
    "name": "ipython",
    "version": 2
   },
   "file_extension": ".py",
   "mimetype": "text/x-python",
   "name": "python",
   "nbconvert_exporter": "python",
   "pygments_lexer": "ipython2",
   "version": "2.7.6"
  }
 },
 "nbformat": 4,
 "nbformat_minor": 5
}
